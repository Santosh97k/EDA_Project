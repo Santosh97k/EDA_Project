{
  "nbformat": 4,
  "nbformat_minor": 0,
  "metadata": {
    "colab": {
      "provenance": [],
      "collapsed_sections": [
        "mDgbUHAGgjLW",
        "7hBIi_osiCS2",
        "JlHwYmJAmNHm",
        "35m5QtbWiB9F",
        "PoPl-ycgm1ru",
        "H0kj-8xxnORC",
        "nA9Y7ga8ng1Z",
        "PBTbrJXOngz2",
        "u3PMJOP6ngxN",
        "448CDAPjqfQr",
        "85gYPyotYoAp",
        "RoGjAbkUYoAp",
        "X_VqEhTip1ck",
        "8zGJKyg5p1ck",
        "PVzmfK_Ep1ck",
        "n3dbpmDWp1ck",
        "ylSl6qgtp1ck",
        "ZWILFDl5p1ck",
        "M7G43BXep1ck",
        "Ag9LCva-p1cl",
        "E6MkPsBcp1cl",
        "2cELzS2fp1cl",
        "3MPXvC8up1cl",
        "NC_X3p0fY2L0",
        "UV0SzAkaZNRQ",
        "YPEH6qLeZNRQ",
        "q29F0dvdveiT",
        "EXh0U9oCveiU",
        "22aHeOlLveiV",
        "JcMwzZxoAimU",
        "8G2x9gOozGDZ",
        "gCX9965dhzqZ",
        "gIfDvo9L0UH2"
      ],
      "include_colab_link": true
    },
    "kernelspec": {
      "name": "python3",
      "display_name": "Python 3"
    },
    "language_info": {
      "name": "python"
    }
  },
  "cells": [
    {
      "cell_type": "markdown",
      "metadata": {
        "id": "view-in-github",
        "colab_type": "text"
      },
      "source": [
        "<a href=\"https://colab.research.google.com/github/Santosh97k/EDA_Project/blob/main/Copy_of_Sample_EDA_Submission_Template.ipynb\" target=\"_parent\"><img src=\"https://colab.research.google.com/assets/colab-badge.svg\" alt=\"Open In Colab\"/></a>"
      ]
    },
    {
      "cell_type": "markdown",
      "source": [
        "# **Project Name**    - AirBnb Booking Analysis\n",
        "\n"
      ],
      "metadata": {
        "id": "vncDsAP0Gaoa"
      }
    },
    {
      "cell_type": "markdown",
      "source": [
        "##### **Project Type**    - EDA\n",
        "##### **Contribution**    - Individual\n",
        "Name- Santosh Kumar"
      ],
      "metadata": {
        "id": "beRrZCGUAJYm"
      }
    },
    {
      "cell_type": "markdown",
      "source": [
        "# **Project Summary -**"
      ],
      "metadata": {
        "id": "FJNUwmbgGyua"
      }
    },
    {
      "cell_type": "markdown",
      "source": [
        "Write the summary here within 500-600 words.\n",
        "\n",
        "The goal of the project was to analyse the airbnb dataset and provide insights in order to achieve  positive business impact.By analysing various aspect of the data including pricing reviews neighbourhood groups and room type we aimed to discover pattern, trends and correlation that can tell strategic decision making improvements.\n",
        "The analysis revealed important findings related to pricing strategy,listing optimization,demands and competetitive analysis this findings can help the client to make data related decisions.\n",
        "\n",
        "One of the important analysis was pricing category.By exploring the relationship between price and factors such as neighbourhood group,room type and availability we were able to identify appropriate pricing ranges for different listing category. This insight can help in setting competitive prices and maximizing revenue.\n",
        "\n",
        "Neighbourhood category was also a significant factor from the business point of view.By analysing popularity and demand for different neighbourhood group we identified specific area where the client can focus their marketting effort and investment to attract more guests.\n",
        "\n",
        "Review management was also a important part of the analysis by studying the number of reviews and reviews per month we can say there there is a importance of response to the guest feedback,addresssing any concern and actively encouraging positive reviews.This can help in improving guest satisfaction and attract more bookings.\n",
        "\n",
        "Count of host was also an important field to analyze.By identifying host with a high number of listings the client can collaborate with them to ensure consistent and quality experience of guests.\n",
        "\n",
        "Overall the analysis of airbnb dataset provided valuable insights and recommendation for the client.These insights pricing strategy,listing optimization,neighbourhood target,review management,host involvement can help the client optimize their operation,improve guest satisfacation,and increases business growth in the airbnb market."
      ],
      "metadata": {
        "id": "F6v_1wHtG2nS"
      }
    },
    {
      "cell_type": "markdown",
      "source": [
        "# **GitHub Link -**"
      ],
      "metadata": {
        "id": "w6K7xa23Elo4"
      }
    },
    {
      "cell_type": "markdown",
      "source": [
        "Provide your GitHub Link here."
      ],
      "metadata": {
        "id": "h1o69JH3Eqqn"
      }
    },
    {
      "cell_type": "markdown",
      "source": [
        "# **Problem Statement**\n"
      ],
      "metadata": {
        "id": "yQaldy8SH6Dl"
      }
    },
    {
      "cell_type": "markdown",
      "source": [
        "**The challenge faced by Airbnb is to optimize the pricing strategy for hosts in order to maximize occupancy rates, revenue, and guest satisfaction, while ensuring competitiveness in the dynamic short-term accommodation rental market. Hosts require guidance to set appropriate prices that reflect property value, consider market demand, and strike a balance between attracting guests and achieving desirable financial returns.**"
      ],
      "metadata": {
        "id": "DpeJGUA3kjGy"
      }
    },
    {
      "cell_type": "markdown",
      "source": [
        "#### **Define Your Business Objective?**"
      ],
      "metadata": {
        "id": "PH-0ReGfmX4f"
      }
    },
    {
      "cell_type": "markdown",
      "source": [
        "\n",
        "\n",
        "\n",
        "The objective is to develop data-driven pricing models and provide hosts with actionable insights to set optimal rental prices for their listings on Airbnb. By leveraging historical booking data, market trends, property attributes, and local market dynamics, the aim is to help hosts make informed decisions that maximize occupancy rates, revenue, and guest satisfaction. The goal is to strike a balance between attracting guests by offering competitive prices and ensuring hosts achieve their financial objectives. Ultimately, by enhancing the pricing strategy, Airbnb aims to improve the overall user experience and maintain a strong competitive position in the short-term accommodation rental industry."
      ],
      "metadata": {
        "id": "PhDvGCAqmjP1"
      }
    },
    {
      "cell_type": "markdown",
      "source": [
        "# **General Guidelines** : -  "
      ],
      "metadata": {
        "id": "mDgbUHAGgjLW"
      }
    },
    {
      "cell_type": "markdown",
      "source": [
        "1.   Well-structured, formatted, and commented code is required.\n",
        "2.   Exception Handling, Production Grade Code & Deployment Ready Code will be a plus. Those students will be awarded some additional credits.\n",
        "     \n",
        "     The additional credits will have advantages over other students during Star Student selection.\n",
        "       \n",
        "             [ Note: - Deployment Ready Code is defined as, the whole .ipynb notebook should be executable in one go\n",
        "                       without a single error logged. ]\n",
        "\n",
        "3.   Each and every logic should have proper comments.\n",
        "4. You may add as many number of charts you want. Make Sure for each and every chart the following format should be answered.\n",
        "        \n",
        "\n",
        "```\n",
        "# Chart visualization code\n",
        "```\n",
        "            \n",
        "\n",
        "*   Why did you pick the specific chart?\n",
        "*   What is/are the insight(s) found from the chart?\n",
        "* Will the gained insights help creating a positive business impact?\n",
        "Are there any insights that lead to negative growth? Justify with specific reason.\n",
        "\n",
        "5. You have to create at least 20 logical & meaningful charts having important insights.\n",
        "\n",
        "\n",
        "[ Hints : - Do the Vizualization in  a structured way while following \"UBM\" Rule.\n",
        "\n",
        "U - Univariate Analysis,\n",
        "\n",
        "B - Bivariate Analysis (Numerical - Categorical, Numerical - Numerical, Categorical - Categorical)\n",
        "\n",
        "M - Multivariate Analysis\n",
        " ]\n",
        "\n",
        "\n",
        "\n"
      ],
      "metadata": {
        "id": "ZrxVaUj-hHfC"
      }
    },
    {
      "cell_type": "markdown",
      "source": [
        "# ***Let's Begin !***"
      ],
      "metadata": {
        "id": "O_i_v8NEhb9l"
      }
    },
    {
      "cell_type": "markdown",
      "source": [
        "## ***1. Know Your Data***"
      ],
      "metadata": {
        "id": "HhfV-JJviCcP"
      }
    },
    {
      "cell_type": "markdown",
      "source": [
        "### Import Libraries"
      ],
      "metadata": {
        "id": "Y3lxredqlCYt"
      }
    },
    {
      "cell_type": "code",
      "source": [
        "# Import Libraries\n",
        "import pandas as pd\n",
        "import numpy as np\n",
        "import matplotlib.pyplot as plt\n",
        "import seaborn as sns"
      ],
      "metadata": {
        "id": "M8Vqi-pPk-HR"
      },
      "execution_count": 1,
      "outputs": []
    },
    {
      "cell_type": "markdown",
      "source": [
        "### Dataset Loading"
      ],
      "metadata": {
        "id": "3RnN4peoiCZX"
      }
    },
    {
      "cell_type": "code",
      "source": [
        "# Load Dataset\n",
        "from google.colab import drive\n",
        "drive.mount('/content/drive')\n",
        "bnb_df=pd.read_csv('/content/drive/MyDrive/Untitled folder/Airbnb NYC 2019(1).csv')"
      ],
      "metadata": {
        "id": "4CkvbW_SlZ_R",
        "colab": {
          "base_uri": "https://localhost:8080/"
        },
        "outputId": "e1eb5571-87ed-45f5-d17d-829f1c16cbee"
      },
      "execution_count": 2,
      "outputs": [
        {
          "output_type": "stream",
          "name": "stdout",
          "text": [
            "Mounted at /content/drive\n"
          ]
        }
      ]
    },
    {
      "cell_type": "markdown",
      "source": [
        "### Dataset First View"
      ],
      "metadata": {
        "id": "x71ZqKXriCWQ"
      }
    },
    {
      "cell_type": "code",
      "source": [
        "# Dataset First Look\n",
        "bnb_df.head()"
      ],
      "metadata": {
        "id": "LWNFOSvLl09H",
        "colab": {
          "base_uri": "https://localhost:8080/",
          "height": 461
        },
        "outputId": "ce1eaaea-8341-41eb-cdc0-c9011061d447"
      },
      "execution_count": 11,
      "outputs": [
        {
          "output_type": "execute_result",
          "data": {
            "text/plain": [
              "     id                                              name  host_id  \\\n",
              "0  2539                Clean & quiet apt home by the park     2787   \n",
              "1  2595                             Skylit Midtown Castle     2845   \n",
              "2  3647               THE VILLAGE OF HARLEM....NEW YORK !     4632   \n",
              "3  3831                   Cozy Entire Floor of Brownstone     4869   \n",
              "4  5022  Entire Apt: Spacious Studio/Loft by central park     7192   \n",
              "\n",
              "     host_name neighbourhood_group neighbourhood  latitude  longitude  \\\n",
              "0         John            Brooklyn    Kensington  40.64749  -73.97237   \n",
              "1     Jennifer           Manhattan       Midtown  40.75362  -73.98377   \n",
              "2    Elisabeth           Manhattan        Harlem  40.80902  -73.94190   \n",
              "3  LisaRoxanne            Brooklyn  Clinton Hill  40.68514  -73.95976   \n",
              "4        Laura           Manhattan   East Harlem  40.79851  -73.94399   \n",
              "\n",
              "         room_type  price  minimum_nights  number_of_reviews  \\\n",
              "0     Private room    149               1                  9   \n",
              "1  Entire home/apt    225               1                 45   \n",
              "2     Private room    150               3                  0   \n",
              "3  Entire home/apt     89               1                270   \n",
              "4  Entire home/apt     80              10                  9   \n",
              "\n",
              "           last_review  reviews_per_month  calculated_host_listings_count  \\\n",
              "0  2018-10-19 00:00:00               0.21                               6   \n",
              "1  2019-05-21 00:00:00               0.38                               2   \n",
              "2                    0               0.00                               1   \n",
              "3  2019-07-05 00:00:00               4.64                               1   \n",
              "4  2018-11-19 00:00:00               0.10                               1   \n",
              "\n",
              "   availability_365  \n",
              "0               365  \n",
              "1               355  \n",
              "2               365  \n",
              "3               194  \n",
              "4                 0  "
            ],
            "text/html": [
              "\n",
              "\n",
              "  <div id=\"df-09704886-c85a-4da0-9115-3b48b69125c2\">\n",
              "    <div class=\"colab-df-container\">\n",
              "      <div>\n",
              "<style scoped>\n",
              "    .dataframe tbody tr th:only-of-type {\n",
              "        vertical-align: middle;\n",
              "    }\n",
              "\n",
              "    .dataframe tbody tr th {\n",
              "        vertical-align: top;\n",
              "    }\n",
              "\n",
              "    .dataframe thead th {\n",
              "        text-align: right;\n",
              "    }\n",
              "</style>\n",
              "<table border=\"1\" class=\"dataframe\">\n",
              "  <thead>\n",
              "    <tr style=\"text-align: right;\">\n",
              "      <th></th>\n",
              "      <th>id</th>\n",
              "      <th>name</th>\n",
              "      <th>host_id</th>\n",
              "      <th>host_name</th>\n",
              "      <th>neighbourhood_group</th>\n",
              "      <th>neighbourhood</th>\n",
              "      <th>latitude</th>\n",
              "      <th>longitude</th>\n",
              "      <th>room_type</th>\n",
              "      <th>price</th>\n",
              "      <th>minimum_nights</th>\n",
              "      <th>number_of_reviews</th>\n",
              "      <th>last_review</th>\n",
              "      <th>reviews_per_month</th>\n",
              "      <th>calculated_host_listings_count</th>\n",
              "      <th>availability_365</th>\n",
              "    </tr>\n",
              "  </thead>\n",
              "  <tbody>\n",
              "    <tr>\n",
              "      <th>0</th>\n",
              "      <td>2539</td>\n",
              "      <td>Clean &amp; quiet apt home by the park</td>\n",
              "      <td>2787</td>\n",
              "      <td>John</td>\n",
              "      <td>Brooklyn</td>\n",
              "      <td>Kensington</td>\n",
              "      <td>40.64749</td>\n",
              "      <td>-73.97237</td>\n",
              "      <td>Private room</td>\n",
              "      <td>149</td>\n",
              "      <td>1</td>\n",
              "      <td>9</td>\n",
              "      <td>2018-10-19 00:00:00</td>\n",
              "      <td>0.21</td>\n",
              "      <td>6</td>\n",
              "      <td>365</td>\n",
              "    </tr>\n",
              "    <tr>\n",
              "      <th>1</th>\n",
              "      <td>2595</td>\n",
              "      <td>Skylit Midtown Castle</td>\n",
              "      <td>2845</td>\n",
              "      <td>Jennifer</td>\n",
              "      <td>Manhattan</td>\n",
              "      <td>Midtown</td>\n",
              "      <td>40.75362</td>\n",
              "      <td>-73.98377</td>\n",
              "      <td>Entire home/apt</td>\n",
              "      <td>225</td>\n",
              "      <td>1</td>\n",
              "      <td>45</td>\n",
              "      <td>2019-05-21 00:00:00</td>\n",
              "      <td>0.38</td>\n",
              "      <td>2</td>\n",
              "      <td>355</td>\n",
              "    </tr>\n",
              "    <tr>\n",
              "      <th>2</th>\n",
              "      <td>3647</td>\n",
              "      <td>THE VILLAGE OF HARLEM....NEW YORK !</td>\n",
              "      <td>4632</td>\n",
              "      <td>Elisabeth</td>\n",
              "      <td>Manhattan</td>\n",
              "      <td>Harlem</td>\n",
              "      <td>40.80902</td>\n",
              "      <td>-73.94190</td>\n",
              "      <td>Private room</td>\n",
              "      <td>150</td>\n",
              "      <td>3</td>\n",
              "      <td>0</td>\n",
              "      <td>0</td>\n",
              "      <td>0.00</td>\n",
              "      <td>1</td>\n",
              "      <td>365</td>\n",
              "    </tr>\n",
              "    <tr>\n",
              "      <th>3</th>\n",
              "      <td>3831</td>\n",
              "      <td>Cozy Entire Floor of Brownstone</td>\n",
              "      <td>4869</td>\n",
              "      <td>LisaRoxanne</td>\n",
              "      <td>Brooklyn</td>\n",
              "      <td>Clinton Hill</td>\n",
              "      <td>40.68514</td>\n",
              "      <td>-73.95976</td>\n",
              "      <td>Entire home/apt</td>\n",
              "      <td>89</td>\n",
              "      <td>1</td>\n",
              "      <td>270</td>\n",
              "      <td>2019-07-05 00:00:00</td>\n",
              "      <td>4.64</td>\n",
              "      <td>1</td>\n",
              "      <td>194</td>\n",
              "    </tr>\n",
              "    <tr>\n",
              "      <th>4</th>\n",
              "      <td>5022</td>\n",
              "      <td>Entire Apt: Spacious Studio/Loft by central park</td>\n",
              "      <td>7192</td>\n",
              "      <td>Laura</td>\n",
              "      <td>Manhattan</td>\n",
              "      <td>East Harlem</td>\n",
              "      <td>40.79851</td>\n",
              "      <td>-73.94399</td>\n",
              "      <td>Entire home/apt</td>\n",
              "      <td>80</td>\n",
              "      <td>10</td>\n",
              "      <td>9</td>\n",
              "      <td>2018-11-19 00:00:00</td>\n",
              "      <td>0.10</td>\n",
              "      <td>1</td>\n",
              "      <td>0</td>\n",
              "    </tr>\n",
              "  </tbody>\n",
              "</table>\n",
              "</div>\n",
              "      <button class=\"colab-df-convert\" onclick=\"convertToInteractive('df-09704886-c85a-4da0-9115-3b48b69125c2')\"\n",
              "              title=\"Convert this dataframe to an interactive table.\"\n",
              "              style=\"display:none;\">\n",
              "\n",
              "  <svg xmlns=\"http://www.w3.org/2000/svg\" height=\"24px\"viewBox=\"0 0 24 24\"\n",
              "       width=\"24px\">\n",
              "    <path d=\"M0 0h24v24H0V0z\" fill=\"none\"/>\n",
              "    <path d=\"M18.56 5.44l.94 2.06.94-2.06 2.06-.94-2.06-.94-.94-2.06-.94 2.06-2.06.94zm-11 1L8.5 8.5l.94-2.06 2.06-.94-2.06-.94L8.5 2.5l-.94 2.06-2.06.94zm10 10l.94 2.06.94-2.06 2.06-.94-2.06-.94-.94-2.06-.94 2.06-2.06.94z\"/><path d=\"M17.41 7.96l-1.37-1.37c-.4-.4-.92-.59-1.43-.59-.52 0-1.04.2-1.43.59L10.3 9.45l-7.72 7.72c-.78.78-.78 2.05 0 2.83L4 21.41c.39.39.9.59 1.41.59.51 0 1.02-.2 1.41-.59l7.78-7.78 2.81-2.81c.8-.78.8-2.07 0-2.86zM5.41 20L4 18.59l7.72-7.72 1.47 1.35L5.41 20z\"/>\n",
              "  </svg>\n",
              "      </button>\n",
              "\n",
              "\n",
              "\n",
              "    <div id=\"df-d427bc1a-9fa6-40ce-a0cd-c8043e5ea4d5\">\n",
              "      <button class=\"colab-df-quickchart\" onclick=\"quickchart('df-d427bc1a-9fa6-40ce-a0cd-c8043e5ea4d5')\"\n",
              "              title=\"Suggest charts.\"\n",
              "              style=\"display:none;\">\n",
              "\n",
              "<svg xmlns=\"http://www.w3.org/2000/svg\" height=\"24px\"viewBox=\"0 0 24 24\"\n",
              "     width=\"24px\">\n",
              "    <g>\n",
              "        <path d=\"M19 3H5c-1.1 0-2 .9-2 2v14c0 1.1.9 2 2 2h14c1.1 0 2-.9 2-2V5c0-1.1-.9-2-2-2zM9 17H7v-7h2v7zm4 0h-2V7h2v10zm4 0h-2v-4h2v4z\"/>\n",
              "    </g>\n",
              "</svg>\n",
              "      </button>\n",
              "    </div>\n",
              "\n",
              "<style>\n",
              "  .colab-df-quickchart {\n",
              "    background-color: #E8F0FE;\n",
              "    border: none;\n",
              "    border-radius: 50%;\n",
              "    cursor: pointer;\n",
              "    display: none;\n",
              "    fill: #1967D2;\n",
              "    height: 32px;\n",
              "    padding: 0 0 0 0;\n",
              "    width: 32px;\n",
              "  }\n",
              "\n",
              "  .colab-df-quickchart:hover {\n",
              "    background-color: #E2EBFA;\n",
              "    box-shadow: 0px 1px 2px rgba(60, 64, 67, 0.3), 0px 1px 3px 1px rgba(60, 64, 67, 0.15);\n",
              "    fill: #174EA6;\n",
              "  }\n",
              "\n",
              "  [theme=dark] .colab-df-quickchart {\n",
              "    background-color: #3B4455;\n",
              "    fill: #D2E3FC;\n",
              "  }\n",
              "\n",
              "  [theme=dark] .colab-df-quickchart:hover {\n",
              "    background-color: #434B5C;\n",
              "    box-shadow: 0px 1px 3px 1px rgba(0, 0, 0, 0.15);\n",
              "    filter: drop-shadow(0px 1px 2px rgba(0, 0, 0, 0.3));\n",
              "    fill: #FFFFFF;\n",
              "  }\n",
              "</style>\n",
              "\n",
              "    <script>\n",
              "      async function quickchart(key) {\n",
              "        const containerElement = document.querySelector('#' + key);\n",
              "        const charts = await google.colab.kernel.invokeFunction(\n",
              "            'suggestCharts', [key], {});\n",
              "      }\n",
              "    </script>\n",
              "\n",
              "      <script>\n",
              "\n",
              "function displayQuickchartButton(domScope) {\n",
              "  let quickchartButtonEl =\n",
              "    domScope.querySelector('#df-d427bc1a-9fa6-40ce-a0cd-c8043e5ea4d5 button.colab-df-quickchart');\n",
              "  quickchartButtonEl.style.display =\n",
              "    google.colab.kernel.accessAllowed ? 'block' : 'none';\n",
              "}\n",
              "\n",
              "        displayQuickchartButton(document);\n",
              "      </script>\n",
              "      <style>\n",
              "    .colab-df-container {\n",
              "      display:flex;\n",
              "      flex-wrap:wrap;\n",
              "      gap: 12px;\n",
              "    }\n",
              "\n",
              "    .colab-df-convert {\n",
              "      background-color: #E8F0FE;\n",
              "      border: none;\n",
              "      border-radius: 50%;\n",
              "      cursor: pointer;\n",
              "      display: none;\n",
              "      fill: #1967D2;\n",
              "      height: 32px;\n",
              "      padding: 0 0 0 0;\n",
              "      width: 32px;\n",
              "    }\n",
              "\n",
              "    .colab-df-convert:hover {\n",
              "      background-color: #E2EBFA;\n",
              "      box-shadow: 0px 1px 2px rgba(60, 64, 67, 0.3), 0px 1px 3px 1px rgba(60, 64, 67, 0.15);\n",
              "      fill: #174EA6;\n",
              "    }\n",
              "\n",
              "    [theme=dark] .colab-df-convert {\n",
              "      background-color: #3B4455;\n",
              "      fill: #D2E3FC;\n",
              "    }\n",
              "\n",
              "    [theme=dark] .colab-df-convert:hover {\n",
              "      background-color: #434B5C;\n",
              "      box-shadow: 0px 1px 3px 1px rgba(0, 0, 0, 0.15);\n",
              "      filter: drop-shadow(0px 1px 2px rgba(0, 0, 0, 0.3));\n",
              "      fill: #FFFFFF;\n",
              "    }\n",
              "  </style>\n",
              "\n",
              "      <script>\n",
              "        const buttonEl =\n",
              "          document.querySelector('#df-09704886-c85a-4da0-9115-3b48b69125c2 button.colab-df-convert');\n",
              "        buttonEl.style.display =\n",
              "          google.colab.kernel.accessAllowed ? 'block' : 'none';\n",
              "\n",
              "        async function convertToInteractive(key) {\n",
              "          const element = document.querySelector('#df-09704886-c85a-4da0-9115-3b48b69125c2');\n",
              "          const dataTable =\n",
              "            await google.colab.kernel.invokeFunction('convertToInteractive',\n",
              "                                                     [key], {});\n",
              "          if (!dataTable) return;\n",
              "\n",
              "          const docLinkHtml = 'Like what you see? Visit the ' +\n",
              "            '<a target=\"_blank\" href=https://colab.research.google.com/notebooks/data_table.ipynb>data table notebook</a>'\n",
              "            + ' to learn more about interactive tables.';\n",
              "          element.innerHTML = '';\n",
              "          dataTable['output_type'] = 'display_data';\n",
              "          await google.colab.output.renderOutput(dataTable, element);\n",
              "          const docLink = document.createElement('div');\n",
              "          docLink.innerHTML = docLinkHtml;\n",
              "          element.appendChild(docLink);\n",
              "        }\n",
              "      </script>\n",
              "    </div>\n",
              "  </div>\n"
            ]
          },
          "metadata": {},
          "execution_count": 11
        }
      ]
    },
    {
      "cell_type": "markdown",
      "source": [
        "### Dataset Rows & Columns count"
      ],
      "metadata": {
        "id": "7hBIi_osiCS2"
      }
    },
    {
      "cell_type": "code",
      "source": [
        "# Dataset Rows & Columns count\n",
        "bnb_df.shape"
      ],
      "metadata": {
        "id": "Kllu7SJgmLij",
        "colab": {
          "base_uri": "https://localhost:8080/"
        },
        "outputId": "cb0b3ac4-4719-498a-8130-5bec8801383b"
      },
      "execution_count": 12,
      "outputs": [
        {
          "output_type": "execute_result",
          "data": {
            "text/plain": [
              "(48895, 16)"
            ]
          },
          "metadata": {},
          "execution_count": 12
        }
      ]
    },
    {
      "cell_type": "markdown",
      "source": [
        "### Dataset Information"
      ],
      "metadata": {
        "id": "JlHwYmJAmNHm"
      }
    },
    {
      "cell_type": "code",
      "source": [
        "# Dataset Info\n",
        "bnb_df.info()"
      ],
      "metadata": {
        "id": "e9hRXRi6meOf",
        "colab": {
          "base_uri": "https://localhost:8080/"
        },
        "outputId": "f76bbd27-7b1b-47e4-aaab-523dbac7fcfa"
      },
      "execution_count": 18,
      "outputs": [
        {
          "output_type": "stream",
          "name": "stdout",
          "text": [
            "<class 'pandas.core.frame.DataFrame'>\n",
            "RangeIndex: 48895 entries, 0 to 48894\n",
            "Data columns (total 16 columns):\n",
            " #   Column                          Non-Null Count  Dtype  \n",
            "---  ------                          --------------  -----  \n",
            " 0   id                              48895 non-null  int64  \n",
            " 1   name                            48879 non-null  object \n",
            " 2   host_id                         48895 non-null  int64  \n",
            " 3   host_name                       48874 non-null  object \n",
            " 4   neighbourhood_group             48895 non-null  object \n",
            " 5   neighbourhood                   48895 non-null  object \n",
            " 6   latitude                        48895 non-null  float64\n",
            " 7   longitude                       48895 non-null  float64\n",
            " 8   room_type                       48895 non-null  object \n",
            " 9   price                           48895 non-null  int64  \n",
            " 10  minimum_nights                  48895 non-null  int64  \n",
            " 11  number_of_reviews               48895 non-null  int64  \n",
            " 12  last_review                     48895 non-null  object \n",
            " 13  reviews_per_month               48895 non-null  float64\n",
            " 14  calculated_host_listings_count  48895 non-null  int64  \n",
            " 15  availability_365                48895 non-null  int64  \n",
            "dtypes: float64(3), int64(7), object(6)\n",
            "memory usage: 6.0+ MB\n"
          ]
        }
      ]
    },
    {
      "cell_type": "markdown",
      "source": [
        "#### Duplicate Values"
      ],
      "metadata": {
        "id": "35m5QtbWiB9F"
      }
    },
    {
      "cell_type": "code",
      "source": [
        "# Dataset Duplicate Value Count\n",
        "duplicate_count=bnb_df.duplicated().sum()\n",
        "duplicate_count"
      ],
      "metadata": {
        "id": "1sLdpKYkmox0",
        "colab": {
          "base_uri": "https://localhost:8080/"
        },
        "outputId": "219fbb51-b5eb-404a-f526-29b79b051f84"
      },
      "execution_count": 19,
      "outputs": [
        {
          "output_type": "execute_result",
          "data": {
            "text/plain": [
              "0"
            ]
          },
          "metadata": {},
          "execution_count": 19
        }
      ]
    },
    {
      "cell_type": "markdown",
      "source": [
        "#### Missing Values/Null Values"
      ],
      "metadata": {
        "id": "PoPl-ycgm1ru"
      }
    },
    {
      "cell_type": "code",
      "source": [
        "# Missing Values/Null Values Count\n",
        "missing_value_count=bnb_df.isnull().sum()\n",
        "missing_value_count"
      ],
      "metadata": {
        "id": "GgHWkxvamxVg",
        "colab": {
          "base_uri": "https://localhost:8080/"
        },
        "outputId": "4247ef6a-c1e8-44eb-af1b-d68eb3fbe7dc"
      },
      "execution_count": 20,
      "outputs": [
        {
          "output_type": "execute_result",
          "data": {
            "text/plain": [
              "id                                 0\n",
              "name                              16\n",
              "host_id                            0\n",
              "host_name                         21\n",
              "neighbourhood_group                0\n",
              "neighbourhood                      0\n",
              "latitude                           0\n",
              "longitude                          0\n",
              "room_type                          0\n",
              "price                              0\n",
              "minimum_nights                     0\n",
              "number_of_reviews                  0\n",
              "last_review                        0\n",
              "reviews_per_month                  0\n",
              "calculated_host_listings_count     0\n",
              "availability_365                   0\n",
              "dtype: int64"
            ]
          },
          "metadata": {},
          "execution_count": 20
        }
      ]
    },
    {
      "cell_type": "code",
      "source": [
        "zero_count = (bnb_df['price'] == 0).sum()\n",
        "zero_count"
      ],
      "metadata": {
        "colab": {
          "base_uri": "https://localhost:8080/"
        },
        "id": "15M6w_buNa5h",
        "outputId": "248fb8f2-b672-422a-90a0-226cc80e6a4d"
      },
      "execution_count": 21,
      "outputs": [
        {
          "output_type": "execute_result",
          "data": {
            "text/plain": [
              "11"
            ]
          },
          "metadata": {},
          "execution_count": 21
        }
      ]
    },
    {
      "cell_type": "code",
      "source": [
        "# Visualizing the missing values\n",
        "missing_value=bnb_df.isnull().sum()\n",
        "\n",
        "missing_value.plot(kind='bar')\n",
        "plt.title('Missing Values')\n",
        "plt.xlabel('Columns')\n",
        "plt.ylabel('Count')\n",
        "plt.xticks(rotation=90)\n",
        "plt.show()"
      ],
      "metadata": {
        "id": "3q5wnI3om9sJ",
        "colab": {
          "base_uri": "https://localhost:8080/",
          "height": 54
        },
        "outputId": "9a5bc139-6219-4394-ee22-b998e5a33c2c"
      },
      "execution_count": 22,
      "outputs": [
        {
          "output_type": "display_data",
          "data": {
            "text/plain": [
              "<Figure size 640x480 with 1 Axes>"
            ],
            "image/png": "[encoded data removed]"
          },
          "metadata": {}
        }
      ]
    },
    {
      "cell_type": "markdown",
      "source": [
        "### What did you know about your dataset?"
      ],
      "metadata": {
        "id": "H0kj-8xxnORC"
      }
    },
    {
      "cell_type": "markdown",
      "source": [
        "Answer:\n",
        "\n",
        "The given Airbnb datasets typically contain information about property listings, hosts, reviews, and other relevant details. These datasets can provide valuable insights into the dynamics of the short-term rental market, pricing trends, guest preferences, and host behavior.\n",
        "\n",
        "From the given dataset we got to know that it has total of 48895 rows and 16 columns. It has no duplicate rows.\n",
        "\n",
        "It has 11 zero value in price column\n",
        "\n",
        "It has missing values mostly in reviews_per_month           and calculated_host_listings_count columns which i have shown in the bar plot."
      ],
      "metadata": {
        "id": "gfoNAAC-nUe_"
      }
    },
    {
      "cell_type": "markdown",
      "source": [
        "## ***2. Understanding Your Variables***"
      ],
      "metadata": {
        "id": "nA9Y7ga8ng1Z"
      }
    },
    {
      "cell_type": "code",
      "source": [
        "# Dataset Columns\n",
        "columns=bnb_df.columns\n",
        "columns"
      ],
      "metadata": {
        "id": "j7xfkqrt5Ag5",
        "colab": {
          "base_uri": "https://localhost:8080/"
        },
        "outputId": "59d65907-8062-4a33-f0c5-f29fdfdf2159"
      },
      "execution_count": null,
      "outputs": [
        {
          "output_type": "execute_result",
          "data": {
            "text/plain": [
              "Index(['id', 'name', 'host_id', 'host_name', 'neighbourhood_group',\n",
              "       'neighbourhood', 'latitude', 'longitude', 'room_type', 'price',\n",
              "       'minimum_nights', 'number_of_reviews', 'last_review',\n",
              "       'reviews_per_month', 'calculated_host_listings_count',\n",
              "       'availability_365'],\n",
              "      dtype='object')"
            ]
          },
          "metadata": {},
          "execution_count": 10
        }
      ]
    },
    {
      "cell_type": "code",
      "source": [
        "# Dataset Describe\n",
        "bnb_df.describe()"
      ],
      "metadata": {
        "id": "DnOaZdaE5Q5t",
        "colab": {
          "base_uri": "https://localhost:8080/",
          "height": 408
        },
        "outputId": "da2243d8-7ccb-4346-f0cb-4cade8c332c9"
      },
      "execution_count": null,
      "outputs": [
        {
          "output_type": "execute_result",
          "data": {
            "text/plain": [
              "                 id       host_id      latitude     longitude         price  \\\n",
              "count  4.889500e+04  4.889500e+04  48895.000000  48895.000000  48895.000000   \n",
              "mean   1.901714e+07  6.762001e+07     40.728949    -73.952170    152.720687   \n",
              "std    1.098311e+07  7.861097e+07      0.054530      0.046157    240.154170   \n",
              "min    2.539000e+03  2.438000e+03     40.499790    -74.244420      0.000000   \n",
              "25%    9.471945e+06  7.822033e+06     40.690100    -73.983070     69.000000   \n",
              "50%    1.967728e+07  3.079382e+07     40.723070    -73.955680    106.000000   \n",
              "75%    2.915218e+07  1.074344e+08     40.763115    -73.936275    175.000000   \n",
              "max    3.648724e+07  2.743213e+08     40.913060    -73.712990  10000.000000   \n",
              "\n",
              "       minimum_nights  number_of_reviews  reviews_per_month  \\\n",
              "count    48895.000000       48895.000000       38843.000000   \n",
              "mean         7.029962          23.274466           1.373221   \n",
              "std         20.510550          44.550582           1.680442   \n",
              "min          1.000000           0.000000           0.010000   \n",
              "25%          1.000000           1.000000           0.190000   \n",
              "50%          3.000000           5.000000           0.720000   \n",
              "75%          5.000000          24.000000           2.020000   \n",
              "max       1250.000000         629.000000          58.500000   \n",
              "\n",
              "       calculated_host_listings_count  availability_365  \n",
              "count                    48895.000000      48895.000000  \n",
              "mean                         7.143982        112.781327  \n",
              "std                         32.952519        131.622289  \n",
              "min                          1.000000          0.000000  \n",
              "25%                          1.000000          0.000000  \n",
              "50%                          1.000000         45.000000  \n",
              "75%                          2.000000        227.000000  \n",
              "max                        327.000000        365.000000  "
            ],
            "text/html": [
              "\n",
              "\n",
              "  <div id=\"df-56eb6c50-92bf-4e84-a231-52fa944fbe17\">\n",
              "    <div class=\"colab-df-container\">\n",
              "      <div>\n",
              "<style scoped>\n",
              "    .dataframe tbody tr th:only-of-type {\n",
              "        vertical-align: middle;\n",
              "    }\n",
              "\n",
              "    .dataframe tbody tr th {\n",
              "        vertical-align: top;\n",
              "    }\n",
              "\n",
              "    .dataframe thead th {\n",
              "        text-align: right;\n",
              "    }\n",
              "</style>\n",
              "<table border=\"1\" class=\"dataframe\">\n",
              "  <thead>\n",
              "    <tr style=\"text-align: right;\">\n",
              "      <th></th>\n",
              "      <th>id</th>\n",
              "      <th>host_id</th>\n",
              "      <th>latitude</th>\n",
              "      <th>longitude</th>\n",
              "      <th>price</th>\n",
              "      <th>minimum_nights</th>\n",
              "      <th>number_of_reviews</th>\n",
              "      <th>reviews_per_month</th>\n",
              "      <th>calculated_host_listings_count</th>\n",
              "      <th>availability_365</th>\n",
              "    </tr>\n",
              "  </thead>\n",
              "  <tbody>\n",
              "    <tr>\n",
              "      <th>count</th>\n",
              "      <td>4.889500e+04</td>\n",
              "      <td>4.889500e+04</td>\n",
              "      <td>48895.000000</td>\n",
              "      <td>48895.000000</td>\n",
              "      <td>48895.000000</td>\n",
              "      <td>48895.000000</td>\n",
              "      <td>48895.000000</td>\n",
              "      <td>38843.000000</td>\n",
              "      <td>48895.000000</td>\n",
              "      <td>48895.000000</td>\n",
              "    </tr>\n",
              "    <tr>\n",
              "      <th>mean</th>\n",
              "      <td>1.901714e+07</td>\n",
              "      <td>6.762001e+07</td>\n",
              "      <td>40.728949</td>\n",
              "      <td>-73.952170</td>\n",
              "      <td>152.720687</td>\n",
              "      <td>7.029962</td>\n",
              "      <td>23.274466</td>\n",
              "      <td>1.373221</td>\n",
              "      <td>7.143982</td>\n",
              "      <td>112.781327</td>\n",
              "    </tr>\n",
              "    <tr>\n",
              "      <th>std</th>\n",
              "      <td>1.098311e+07</td>\n",
              "      <td>7.861097e+07</td>\n",
              "      <td>0.054530</td>\n",
              "      <td>0.046157</td>\n",
              "      <td>240.154170</td>\n",
              "      <td>20.510550</td>\n",
              "      <td>44.550582</td>\n",
              "      <td>1.680442</td>\n",
              "      <td>32.952519</td>\n",
              "      <td>131.622289</td>\n",
              "    </tr>\n",
              "    <tr>\n",
              "      <th>min</th>\n",
              "      <td>2.539000e+03</td>\n",
              "      <td>2.438000e+03</td>\n",
              "      <td>40.499790</td>\n",
              "      <td>-74.244420</td>\n",
              "      <td>0.000000</td>\n",
              "      <td>1.000000</td>\n",
              "      <td>0.000000</td>\n",
              "      <td>0.010000</td>\n",
              "      <td>1.000000</td>\n",
              "      <td>0.000000</td>\n",
              "    </tr>\n",
              "    <tr>\n",
              "      <th>25%</th>\n",
              "      <td>9.471945e+06</td>\n",
              "      <td>7.822033e+06</td>\n",
              "      <td>40.690100</td>\n",
              "      <td>-73.983070</td>\n",
              "      <td>69.000000</td>\n",
              "      <td>1.000000</td>\n",
              "      <td>1.000000</td>\n",
              "      <td>0.190000</td>\n",
              "      <td>1.000000</td>\n",
              "      <td>0.000000</td>\n",
              "    </tr>\n",
              "    <tr>\n",
              "      <th>50%</th>\n",
              "      <td>1.967728e+07</td>\n",
              "      <td>3.079382e+07</td>\n",
              "      <td>40.723070</td>\n",
              "      <td>-73.955680</td>\n",
              "      <td>106.000000</td>\n",
              "      <td>3.000000</td>\n",
              "      <td>5.000000</td>\n",
              "      <td>0.720000</td>\n",
              "      <td>1.000000</td>\n",
              "      <td>45.000000</td>\n",
              "    </tr>\n",
              "    <tr>\n",
              "      <th>75%</th>\n",
              "      <td>2.915218e+07</td>\n",
              "      <td>1.074344e+08</td>\n",
              "      <td>40.763115</td>\n",
              "      <td>-73.936275</td>\n",
              "      <td>175.000000</td>\n",
              "      <td>5.000000</td>\n",
              "      <td>24.000000</td>\n",
              "      <td>2.020000</td>\n",
              "      <td>2.000000</td>\n",
              "      <td>227.000000</td>\n",
              "    </tr>\n",
              "    <tr>\n",
              "      <th>max</th>\n",
              "      <td>3.648724e+07</td>\n",
              "      <td>2.743213e+08</td>\n",
              "      <td>40.913060</td>\n",
              "      <td>-73.712990</td>\n",
              "      <td>10000.000000</td>\n",
              "      <td>1250.000000</td>\n",
              "      <td>629.000000</td>\n",
              "      <td>58.500000</td>\n",
              "      <td>327.000000</td>\n",
              "      <td>365.000000</td>\n",
              "    </tr>\n",
              "  </tbody>\n",
              "</table>\n",
              "</div>\n",
              "      <button class=\"colab-df-convert\" onclick=\"convertToInteractive('df-56eb6c50-92bf-4e84-a231-52fa944fbe17')\"\n",
              "              title=\"Convert this dataframe to an interactive table.\"\n",
              "              style=\"display:none;\">\n",
              "\n",
              "  <svg xmlns=\"http://www.w3.org/2000/svg\" height=\"24px\"viewBox=\"0 0 24 24\"\n",
              "       width=\"24px\">\n",
              "    <path d=\"M0 0h24v24H0V0z\" fill=\"none\"/>\n",
              "    <path d=\"M18.56 5.44l.94 2.06.94-2.06 2.06-.94-2.06-.94-.94-2.06-.94 2.06-2.06.94zm-11 1L8.5 8.5l.94-2.06 2.06-.94-2.06-.94L8.5 2.5l-.94 2.06-2.06.94zm10 10l.94 2.06.94-2.06 2.06-.94-2.06-.94-.94-2.06-.94 2.06-2.06.94z\"/><path d=\"M17.41 7.96l-1.37-1.37c-.4-.4-.92-.59-1.43-.59-.52 0-1.04.2-1.43.59L10.3 9.45l-7.72 7.72c-.78.78-.78 2.05 0 2.83L4 21.41c.39.39.9.59 1.41.59.51 0 1.02-.2 1.41-.59l7.78-7.78 2.81-2.81c.8-.78.8-2.07 0-2.86zM5.41 20L4 18.59l7.72-7.72 1.47 1.35L5.41 20z\"/>\n",
              "  </svg>\n",
              "      </button>\n",
              "\n",
              "\n",
              "\n",
              "    <div id=\"df-8574def6-ffe6-4c31-970e-48f1a0799f5e\">\n",
              "      <button class=\"colab-df-quickchart\" onclick=\"quickchart('df-8574def6-ffe6-4c31-970e-48f1a0799f5e')\"\n",
              "              title=\"Suggest charts.\"\n",
              "              style=\"display:none;\">\n",
              "\n",
              "<svg xmlns=\"http://www.w3.org/2000/svg\" height=\"24px\"viewBox=\"0 0 24 24\"\n",
              "     width=\"24px\">\n",
              "    <g>\n",
              "        <path d=\"M19 3H5c-1.1 0-2 .9-2 2v14c0 1.1.9 2 2 2h14c1.1 0 2-.9 2-2V5c0-1.1-.9-2-2-2zM9 17H7v-7h2v7zm4 0h-2V7h2v10zm4 0h-2v-4h2v4z\"/>\n",
              "    </g>\n",
              "</svg>\n",
              "      </button>\n",
              "    </div>\n",
              "\n",
              "<style>\n",
              "  .colab-df-quickchart {\n",
              "    background-color: #E8F0FE;\n",
              "    border: none;\n",
              "    border-radius: 50%;\n",
              "    cursor: pointer;\n",
              "    display: none;\n",
              "    fill: #1967D2;\n",
              "    height: 32px;\n",
              "    padding: 0 0 0 0;\n",
              "    width: 32px;\n",
              "  }\n",
              "\n",
              "  .colab-df-quickchart:hover {\n",
              "    background-color: #E2EBFA;\n",
              "    box-shadow: 0px 1px 2px rgba(60, 64, 67, 0.3), 0px 1px 3px 1px rgba(60, 64, 67, 0.15);\n",
              "    fill: #174EA6;\n",
              "  }\n",
              "\n",
              "  [theme=dark] .colab-df-quickchart {\n",
              "    background-color: #3B4455;\n",
              "    fill: #D2E3FC;\n",
              "  }\n",
              "\n",
              "  [theme=dark] .colab-df-quickchart:hover {\n",
              "    background-color: #434B5C;\n",
              "    box-shadow: 0px 1px 3px 1px rgba(0, 0, 0, 0.15);\n",
              "    filter: drop-shadow(0px 1px 2px rgba(0, 0, 0, 0.3));\n",
              "    fill: #FFFFFF;\n",
              "  }\n",
              "</style>\n",
              "\n",
              "    <script>\n",
              "      async function quickchart(key) {\n",
              "        const containerElement = document.querySelector('#' + key);\n",
              "        const charts = await google.colab.kernel.invokeFunction(\n",
              "            'suggestCharts', [key], {});\n",
              "      }\n",
              "    </script>\n",
              "\n",
              "      <script>\n",
              "\n",
              "function displayQuickchartButton(domScope) {\n",
              "  let quickchartButtonEl =\n",
              "    domScope.querySelector('#df-8574def6-ffe6-4c31-970e-48f1a0799f5e button.colab-df-quickchart');\n",
              "  quickchartButtonEl.style.display =\n",
              "    google.colab.kernel.accessAllowed ? 'block' : 'none';\n",
              "}\n",
              "\n",
              "        displayQuickchartButton(document);\n",
              "      </script>\n",
              "      <style>\n",
              "    .colab-df-container {\n",
              "      display:flex;\n",
              "      flex-wrap:wrap;\n",
              "      gap: 12px;\n",
              "    }\n",
              "\n",
              "    .colab-df-convert {\n",
              "      background-color: #E8F0FE;\n",
              "      border: none;\n",
              "      border-radius: 50%;\n",
              "      cursor: pointer;\n",
              "      display: none;\n",
              "      fill: #1967D2;\n",
              "      height: 32px;\n",
              "      padding: 0 0 0 0;\n",
              "      width: 32px;\n",
              "    }\n",
              "\n",
              "    .colab-df-convert:hover {\n",
              "      background-color: #E2EBFA;\n",
              "      box-shadow: 0px 1px 2px rgba(60, 64, 67, 0.3), 0px 1px 3px 1px rgba(60, 64, 67, 0.15);\n",
              "      fill: #174EA6;\n",
              "    }\n",
              "\n",
              "    [theme=dark] .colab-df-convert {\n",
              "      background-color: #3B4455;\n",
              "      fill: #D2E3FC;\n",
              "    }\n",
              "\n",
              "    [theme=dark] .colab-df-convert:hover {\n",
              "      background-color: #434B5C;\n",
              "      box-shadow: 0px 1px 3px 1px rgba(0, 0, 0, 0.15);\n",
              "      filter: drop-shadow(0px 1px 2px rgba(0, 0, 0, 0.3));\n",
              "      fill: #FFFFFF;\n",
              "    }\n",
              "  </style>\n",
              "\n",
              "      <script>\n",
              "        const buttonEl =\n",
              "          document.querySelector('#df-56eb6c50-92bf-4e84-a231-52fa944fbe17 button.colab-df-convert');\n",
              "        buttonEl.style.display =\n",
              "          google.colab.kernel.accessAllowed ? 'block' : 'none';\n",
              "\n",
              "        async function convertToInteractive(key) {\n",
              "          const element = document.querySelector('#df-56eb6c50-92bf-4e84-a231-52fa944fbe17');\n",
              "          const dataTable =\n",
              "            await google.colab.kernel.invokeFunction('convertToInteractive',\n",
              "                                                     [key], {});\n",
              "          if (!dataTable) return;\n",
              "\n",
              "          const docLinkHtml = 'Like what you see? Visit the ' +\n",
              "            '<a target=\"_blank\" href=https://colab.research.google.com/notebooks/data_table.ipynb>data table notebook</a>'\n",
              "            + ' to learn more about interactive tables.';\n",
              "          element.innerHTML = '';\n",
              "          dataTable['output_type'] = 'display_data';\n",
              "          await google.colab.output.renderOutput(dataTable, element);\n",
              "          const docLink = document.createElement('div');\n",
              "          docLink.innerHTML = docLinkHtml;\n",
              "          element.appendChild(docLink);\n",
              "        }\n",
              "      </script>\n",
              "    </div>\n",
              "  </div>\n"
            ]
          },
          "metadata": {},
          "execution_count": 11
        }
      ]
    },
    {
      "cell_type": "markdown",
      "source": [
        "### Variables Description"
      ],
      "metadata": {
        "id": "PBTbrJXOngz2"
      }
    },
    {
      "cell_type": "markdown",
      "source": [
        "Answer\n",
        "\n",
        "\n",
        "\n",
        "1. id: The unique identifier for each Airbnb listing.\n",
        "2. name: The title or name given to the listing by the host.\n",
        "3. host_id: The unique identifier for the host of the listing.\n",
        "4. host_name: The name of the host.\n",
        "5. neighbourhood_group: The larger geographical area in which the listing is located\n",
        "6. neighbourhood: The specific neighborhood or area within the larger geographical area where the listing is situated.\n",
        "7. latitude: The latitude coordinate of the listing's location.\n",
        "8. longitude: The longitude coordinate of the listing's location.\n",
        "9. room_type: The type of room or space available for rent (e.g., Private room, Entire home/apartment).\n",
        "10. price: The nightly rental price for the listing.\n",
        "11. minimum_nights: The minimum number of nights a guest must book to stay at the listing.\n",
        "12. number_of_reviews: The total number of reviews received for the listing.\n",
        "13. last_review: The date of the most recent review for the listing.\n",
        "14. reviews_per_month: The average number of reviews the listing receives per month.\n",
        "15. calculated_host_listings_count: It indicates how many properties or accommodations the host has listed on Airbnb.\n",
        "16. availability_365: This column indicates the number of days within a year that the listing is available for booking.\n"
      ],
      "metadata": {
        "id": "aJV4KIxSnxay"
      }
    },
    {
      "cell_type": "markdown",
      "source": [
        "### Check Unique Values for each variable."
      ],
      "metadata": {
        "id": "u3PMJOP6ngxN"
      }
    },
    {
      "cell_type": "code",
      "source": [
        "# Check Unique Values for each variable.\n",
        "for column in bnb_df.columns:\n",
        "    unique_count = bnb_df[column].nunique()\n",
        "    print(f\"{column} : {unique_count}\")"
      ],
      "metadata": {
        "id": "zms12Yq5n-jE",
        "colab": {
          "base_uri": "https://localhost:8080/"
        },
        "outputId": "2393a57c-9c7f-4aab-d71d-b1a34eab6d52"
      },
      "execution_count": null,
      "outputs": [
        {
          "output_type": "stream",
          "name": "stdout",
          "text": [
            "id : 48895\n",
            "name : 47905\n",
            "host_id : 37457\n",
            "host_name : 11452\n",
            "neighbourhood_group : 5\n",
            "neighbourhood : 221\n",
            "latitude : 19048\n",
            "longitude : 14718\n",
            "room_type : 3\n",
            "price : 674\n",
            "minimum_nights : 109\n",
            "number_of_reviews : 394\n",
            "last_review : 1764\n",
            "reviews_per_month : 937\n",
            "calculated_host_listings_count : 47\n",
            "availability_365 : 366\n"
          ]
        }
      ]
    },
    {
      "cell_type": "markdown",
      "source": [
        "## 3. ***Data Wrangling***"
      ],
      "metadata": {
        "id": "dauF4eBmngu3"
      }
    },
    {
      "cell_type": "markdown",
      "source": [
        "### Data Wrangling Code"
      ],
      "metadata": {
        "id": "bKJF3rekwFvQ"
      }
    },
    {
      "cell_type": "code",
      "source": [
        "# Write your code to make your dataset analysis ready.\n",
        "\n",
        "# converting last review column to date time date type\n",
        "bnb_df['last_review']=pd.to_datetime(bnb_df['last_review'],errors='coerce')\n",
        "bnb_df.info()\n"
      ],
      "metadata": {
        "id": "wk-9a2fpoLcV"
      },
      "execution_count": null,
      "outputs": []
    },
    {
      "cell_type": "code",
      "source": [
        "#filling missing value in last review column\n",
        "bnb_df['last_review'].fillna(0,inplace=True)\n",
        "bnb_df.isnull().sum()"
      ],
      "metadata": {
        "id": "BcrQVUbOV_18"
      },
      "execution_count": null,
      "outputs": []
    },
    {
      "cell_type": "code",
      "source": [
        "#filling missing value in calculated_host_listings_count\n",
        "bnb_df['reviews_per_month'].fillna(0,inplace=True)\n",
        "bnb_df.isnull().sum()"
      ],
      "metadata": {
        "id": "hyofGte0YIbq"
      },
      "execution_count": null,
      "outputs": []
    },
    {
      "cell_type": "code",
      "source": [
        "#neighbourhood group having highest listing\n",
        "highest_listing=bnb_df['neighbourhood_group'].value_counts()\n",
        "highest_listing"
      ],
      "metadata": {
        "id": "rXNHLz8HMfn4",
        "colab": {
          "base_uri": "https://localhost:8080/"
        },
        "outputId": "f9d5a39f-58cc-4410-ac69-e297c8dfcbc0"
      },
      "execution_count": 6,
      "outputs": [
        {
          "output_type": "execute_result",
          "data": {
            "text/plain": [
              "Manhattan        21661\n",
              "Brooklyn         20104\n",
              "Queens            5666\n",
              "Bronx             1091\n",
              "Staten Island      373\n",
              "Name: neighbourhood_group, dtype: int64"
            ]
          },
          "metadata": {},
          "execution_count": 6
        }
      ]
    },
    {
      "cell_type": "code",
      "source": [
        "#neighbourhood having highest listing\n",
        "neighbourhood_count=bnb_df['neighbourhood'].value_counts()\n",
        "neighbourhood_count"
      ],
      "metadata": {
        "id": "C_1_kaztZmNT",
        "colab": {
          "base_uri": "https://localhost:8080/"
        },
        "outputId": "bef63863-d0b2-4a7b-adad-efadf2f56bbb"
      },
      "execution_count": 8,
      "outputs": [
        {
          "output_type": "execute_result",
          "data": {
            "text/plain": [
              "Williamsburg          3920\n",
              "Bedford-Stuyvesant    3714\n",
              "Harlem                2658\n",
              "Bushwick              2465\n",
              "Upper West Side       1971\n",
              "                      ... \n",
              "Fort Wadsworth           1\n",
              "Richmondtown             1\n",
              "New Dorp                 1\n",
              "Rossville                1\n",
              "Willowbrook              1\n",
              "Name: neighbourhood, Length: 221, dtype: int64"
            ]
          },
          "metadata": {},
          "execution_count": 8
        }
      ]
    },
    {
      "cell_type": "code",
      "source": [
        "#neighbourhood groups having highest neighbourhood\n",
        "neighbour_in_neighbour_group=bnb_df.groupby('neighbourhood_group')['neighbourhood'].count()\n",
        "neighbour_in_neighbour_group"
      ],
      "metadata": {
        "id": "OAXlcMLwhgIs",
        "colab": {
          "base_uri": "https://localhost:8080/"
        },
        "outputId": "e7220510-53d0-4ce3-cde3-53fa84daf59c"
      },
      "execution_count": 9,
      "outputs": [
        {
          "output_type": "execute_result",
          "data": {
            "text/plain": [
              "neighbourhood_group\n",
              "Bronx             1091\n",
              "Brooklyn         20104\n",
              "Manhattan        21661\n",
              "Queens            5666\n",
              "Staten Island      373\n",
              "Name: neighbourhood, dtype: int64"
            ]
          },
          "metadata": {},
          "execution_count": 9
        }
      ]
    },
    {
      "cell_type": "code",
      "source": [
        "#host having highest listing\n",
        "host_counts = bnb_df['host_name'].value_counts()\n",
        "host_counts"
      ],
      "metadata": {
        "id": "fBo7YmvhhgEL",
        "colab": {
          "base_uri": "https://localhost:8080/"
        },
        "outputId": "a3b11fbf-cc85-4cf2-f320-52c7cfa48089"
      },
      "execution_count": 10,
      "outputs": [
        {
          "output_type": "execute_result",
          "data": {
            "text/plain": [
              "Michael              417\n",
              "David                403\n",
              "Sonder (NYC)         327\n",
              "John                 294\n",
              "Alex                 279\n",
              "                    ... \n",
              "Rhonycs                1\n",
              "Brandy-Courtney        1\n",
              "Shanthony              1\n",
              "Aurore And Jamila      1\n",
              "Ilgar & Aysel          1\n",
              "Name: host_name, Length: 11452, dtype: int64"
            ]
          },
          "metadata": {},
          "execution_count": 10
        }
      ]
    },
    {
      "cell_type": "code",
      "source": [
        "# highest price and corresponding neighborhood group and neighborhood\n",
        "grouped = bnb_df.groupby(['neighbourhood_group', 'neighbourhood'])['price'].max()\n",
        "\n",
        "highest_price = grouped.max()\n",
        "highest_price_neighborhood = grouped.idxmax()\n",
        "\n",
        "# Print the highest price and corresponding neighborhood group and neighborhood\n",
        "print(\"Highest Price:\", highest_price)\n",
        "print(\"Neighborhood Group and Neighborhood:\", highest_price_neighborhood)"
      ],
      "metadata": {
        "id": "8xOHAAmgn9ck",
        "colab": {
          "base_uri": "https://localhost:8080/"
        },
        "outputId": "7304cdd4-d458-4cd1-b1eb-2938a2c21aa7"
      },
      "execution_count": 7,
      "outputs": [
        {
          "output_type": "stream",
          "name": "stdout",
          "text": [
            "Highest Price: 10000\n",
            "Neighborhood Group and Neighborhood: ('Brooklyn', 'Greenpoint')\n"
          ]
        }
      ]
    },
    {
      "cell_type": "code",
      "source": [
        "# lowest price and corresponding neighborhood group and neighborhood\n",
        "\n",
        "    #filtering price which have 0 value\n",
        "\n",
        "filter_df=bnb_df[bnb_df['price']>0]\n",
        "grouped = filter_df.groupby(['neighbourhood_group', 'neighbourhood'])['price'].min()\n",
        "\n",
        "\n",
        "lowest_price = grouped.min()\n",
        "lowest_price_neighborhood = grouped.idxmin()\n",
        "\n",
        "# Print the lowest price and corresponding neighborhood group and neighborhood\n",
        "print(\"Lowest Price:\", lowest_price)\n",
        "print(\"Neighborhood Group and Neighborhood:\", lowest_price_neighborhood)"
      ],
      "metadata": {
        "id": "fwdg-i4fpsRX",
        "colab": {
          "base_uri": "https://localhost:8080/"
        },
        "outputId": "056f1230-0a23-4828-8647-9ff98a8e2d04"
      },
      "execution_count": null,
      "outputs": [
        {
          "output_type": "stream",
          "name": "stdout",
          "text": [
            "Lowest Price: 10\n",
            "Neighborhood Group and Neighborhood: ('Bronx', 'Highbridge')\n"
          ]
        }
      ]
    },
    {
      "cell_type": "code",
      "source": [
        "#highest price of all the room type\n",
        "highest_price_allroomtype=bnb_df.groupby('room_type')['price'].max()\n",
        "print(highest_price_allroomtype)"
      ],
      "metadata": {
        "id": "25G5SEQ0psNF",
        "colab": {
          "base_uri": "https://localhost:8080/"
        },
        "outputId": "f09d3cad-3156-4eb6-a577-1ddd38d2f559"
      },
      "execution_count": null,
      "outputs": [
        {
          "output_type": "stream",
          "name": "stdout",
          "text": [
            "room_type\n",
            "Entire home/apt    10000\n",
            "Private room       10000\n",
            "Shared room         1800\n",
            "Name: price, dtype: int64\n"
          ]
        }
      ]
    },
    {
      "cell_type": "code",
      "source": [
        "#room type having highest price along with its neighbourhod group and neighbourhood\n",
        "grouped=bnb_df.groupby('room_type')['price'].max()\n",
        "highest_price_room_type = grouped.idxmax()\n",
        "highest_price_neighborhood_group = bnb_df[bnb_df['room_type'] == highest_price_room_type]['neighbourhood_group'].unique()\n",
        "highest_price_neighbourhood = bnb_df[bnb_df['room_type'] == highest_price_room_type]['neighbourhood'].unique()\n",
        "\n",
        "# Print the room type with the highest price and corresponding neighborhood group and neighborhood\n",
        "print(\"Room Type with the Highest Price:\", highest_price_room_type)\n",
        "print(\"Neighborhood Group with the Highest Price:\", highest_price_neighborhood_group)\n",
        "print(\"Neighborhood with the Highest Price:\", highest_price_neighbourhood)"
      ],
      "metadata": {
        "id": "0tq-Q1Xr_yb4"
      },
      "execution_count": null,
      "outputs": []
    },
    {
      "cell_type": "code",
      "source": [
        "# we can also calculate avg price for each room type\n",
        "avg_roomtype_price= bnb_df.groupby('room_type')['price'].mean()\n",
        "print(avg_roomtype_price)"
      ],
      "metadata": {
        "id": "1Hxk7mGu6nJP",
        "colab": {
          "base_uri": "https://localhost:8080/"
        },
        "outputId": "55b5221c-a10b-4b5c-8142-4172046ee33d"
      },
      "execution_count": null,
      "outputs": [
        {
          "output_type": "stream",
          "name": "stdout",
          "text": [
            "room_type\n",
            "Entire home/apt    211.794246\n",
            "Private room        89.780973\n",
            "Shared room         70.127586\n",
            "Name: price, dtype: float64\n"
          ]
        }
      ]
    },
    {
      "cell_type": "code",
      "source": [
        "# highest minimum night required by each room type\n",
        "grouping=bnb_df.groupby('room_type')['minimum_nights'].max()\n",
        "grouping"
      ],
      "metadata": {
        "id": "H2a5B6_bQKBJ",
        "colab": {
          "base_uri": "https://localhost:8080/"
        },
        "outputId": "4374e14e-9931-4838-ef4e-760b53884803"
      },
      "execution_count": null,
      "outputs": [
        {
          "output_type": "execute_result",
          "data": {
            "text/plain": [
              "room_type\n",
              "Entire home/apt    1250\n",
              "Private room        999\n",
              "Shared room         999\n",
              "Name: minimum_nights, dtype: int64"
            ]
          },
          "metadata": {},
          "execution_count": 25
        }
      ]
    },
    {
      "cell_type": "code",
      "source": [
        "#listings with the highest minimum night requirement\n",
        "\n",
        "highest_min_nights = bnb_df['minimum_nights'].max()\n",
        "\n",
        "# Filter the dataset to include only listings with the highest minimum night requirement\n",
        "highest_min_nights_listings = bnb_df[bnb_df['minimum_nights'] == highest_min_nights]\n",
        "\n",
        "print(highest_min_nights_listings[['name','minimum_nights']])\n",
        "\n"
      ],
      "metadata": {
        "id": "QshIbw6EaGKh",
        "colab": {
          "base_uri": "https://localhost:8080/"
        },
        "outputId": "b2b782b5-2fb9-4935-9f72-08b3523e5539"
      },
      "execution_count": null,
      "outputs": [
        {
          "output_type": "stream",
          "name": "stdout",
          "text": [
            "                                  name  minimum_nights\n",
            "5767  Prime W. Village location 1 bdrm            1250\n"
          ]
        }
      ]
    },
    {
      "cell_type": "code",
      "source": [
        "#we can add minimum night range column in our dataset in order to categorise it\n",
        "\n",
        "ranges = [\n",
        "    (0, 7),     # 0-7 nights\n",
        "    (8, 14),    # 8-14 nights\n",
        "    (15, 30),   # 15-30 nights\n",
        "    (31, 365),  # 31-365 nights\n",
        "    (366, float('inf'))  # More than 365 nights\n",
        "]\n",
        "\n",
        "def assign_range(min_nights):\n",
        "    for range_min, range_max in ranges:\n",
        "        if range_min <= min_nights <= range_max:\n",
        "            return f\"{range_min}-{range_max} nights\"\n",
        "    return \" more than 365 \"\n",
        "\n",
        "# Add a new column 'min_night_range' to the DataFrame\n",
        "bnb_df['min_night_range'] = bnb_df['minimum_nights'].map(assign_range)\n",
        "\n",
        "print(bnb_df.head())\n"
      ],
      "metadata": {
        "id": "VKG5uQIsaGHL",
        "colab": {
          "base_uri": "https://localhost:8080/"
        },
        "outputId": "4e9fc8ab-282c-4a9e-c44b-98992d21496c"
      },
      "execution_count": null,
      "outputs": [
        {
          "output_type": "stream",
          "name": "stdout",
          "text": [
            "     id                                              name  host_id  \\\n",
            "0  2539                Clean & quiet apt home by the park     2787   \n",
            "1  2595                             Skylit Midtown Castle     2845   \n",
            "2  3647               THE VILLAGE OF HARLEM....NEW YORK !     4632   \n",
            "3  3831                   Cozy Entire Floor of Brownstone     4869   \n",
            "4  5022  Entire Apt: Spacious Studio/Loft by central park     7192   \n",
            "\n",
            "     host_name neighbourhood_group neighbourhood  latitude  longitude  \\\n",
            "0         John            Brooklyn    Kensington  40.64749  -73.97237   \n",
            "1     Jennifer           Manhattan       Midtown  40.75362  -73.98377   \n",
            "2    Elisabeth           Manhattan        Harlem  40.80902  -73.94190   \n",
            "3  LisaRoxanne            Brooklyn  Clinton Hill  40.68514  -73.95976   \n",
            "4        Laura           Manhattan   East Harlem  40.79851  -73.94399   \n",
            "\n",
            "         room_type  price  minimum_nights  number_of_reviews  \\\n",
            "0     Private room    149               1                  9   \n",
            "1  Entire home/apt    225               1                 45   \n",
            "2     Private room    150               3                  0   \n",
            "3  Entire home/apt     89               1                270   \n",
            "4  Entire home/apt     80              10                  9   \n",
            "\n",
            "           last_review  reviews_per_month  calculated_host_listings_count  \\\n",
            "0  2018-10-19 00:00:00               0.21                               6   \n",
            "1  2019-05-21 00:00:00               0.38                               2   \n",
            "2                    0               0.00                               1   \n",
            "3  2019-07-05 00:00:00               4.64                               1   \n",
            "4  2018-11-19 00:00:00               0.10                               1   \n",
            "\n",
            "   availability_365 min_night_range  \n",
            "0               365      0-7 nights  \n",
            "1               355      0-7 nights  \n",
            "2               365      0-7 nights  \n",
            "3               194      0-7 nights  \n",
            "4                 0     8-14 nights  \n"
          ]
        }
      ]
    },
    {
      "cell_type": "code",
      "source": [
        "# Find the highest number of reviews\n",
        "highest_reviews = bnb_df['number_of_reviews'].max()\n",
        "\n",
        "# Filter the dataset to include only listings with the highest number of reviews\n",
        "highest_reviews_listings = bnb_df[bnb_df['number_of_reviews'] == highest_reviews]\n",
        "\n",
        "# Print the listing name(s) with the highest number of reviews\n",
        "print(\"Listing(s) with the Highest Number of Reviews:\")\n",
        "print(highest_reviews_listings['name'])"
      ],
      "metadata": {
        "id": "dafHHdqBw5Sx",
        "colab": {
          "base_uri": "https://localhost:8080/"
        },
        "outputId": "e2ff5b16-1e38-41bd-d79e-8bc2b4edb8f3"
      },
      "execution_count": null,
      "outputs": [
        {
          "output_type": "stream",
          "name": "stdout",
          "text": [
            "Listing(s) with the Highest Number of Reviews:\n",
            "11759    Room near JFK Queen Bed\n",
            "Name: name, dtype: object\n"
          ]
        }
      ]
    },
    {
      "cell_type": "code",
      "source": [
        "# year having most reviews\n",
        "\n",
        "# extracting year from the last review column\n",
        "bnb_df['year']=bnb_df['last_review'].dt.year\n",
        "\n",
        "reviewcount_byyear=bnb_df['year'].value_counts()\n",
        "reviewcount_byyear"
      ],
      "metadata": {
        "id": "Vmreuls8zK1_",
        "colab": {
          "base_uri": "https://localhost:8080/"
        },
        "outputId": "c72c0bbd-6ec1-49bc-de1e-c5ce329d7a20"
      },
      "execution_count": null,
      "outputs": [
        {
          "output_type": "execute_result",
          "data": {
            "text/plain": [
              "2019.0    25209\n",
              "2018.0     6050\n",
              "2017.0     3205\n",
              "2016.0     2707\n",
              "2015.0     1393\n",
              "2014.0      199\n",
              "2013.0       48\n",
              "2012.0       25\n",
              "2011.0        7\n",
              "Name: year, dtype: int64"
            ]
          },
          "metadata": {},
          "execution_count": 32
        }
      ]
    },
    {
      "cell_type": "code",
      "source": [
        "# highest number of reviews per month and the corresponding listing details\n",
        "highest_review=bnb_df['reviews_per_month'].max()\n",
        "highest_review_listing=bnb_df[bnb_df['reviews_per_month']==highest_review]\n",
        "\n",
        "print('highest reviews per month:',highest_review)\n",
        "print('respective room type:',highest_review_listing['room_type'])\n",
        "print('respective neighbourhood group:',highest_review_listing['neighbourhood_group'])\n",
        "print('respective neighbourhood:',highest_review_listing['neighbourhood'])\n",
        "print('respective host name:',highest_review_listing['host_name'])\n"
      ],
      "metadata": {
        "id": "m-V84FSUnMxe",
        "colab": {
          "base_uri": "https://localhost:8080/"
        },
        "outputId": "a660ab2f-651c-4753-9deb-72b80560888b"
      },
      "execution_count": null,
      "outputs": [
        {
          "output_type": "stream",
          "name": "stdout",
          "text": [
            "highest reviews per month: 58.5\n",
            "respective room type: 42075    Private room\n",
            "Name: room_type, dtype: object\n",
            "respective neighbourhood group: 42075    Manhattan\n",
            "Name: neighbourhood_group, dtype: object\n",
            "respective neighbourhood: 42075    Theater District\n",
            "Name: neighbourhood, dtype: object\n",
            "respective host name: 42075    Row NYC\n",
            "Name: host_name, dtype: object\n"
          ]
        }
      ]
    },
    {
      "cell_type": "code",
      "source": [
        "\n",
        "# host with the highest calculated host listing count\n",
        "host_listing_count = bnb_df['calculated_host_listings_count']\n",
        "\n",
        "\n",
        "highest_listing_host = bnb_df.loc[host_listing_count.idxmax(), 'host_name']\n",
        "\n",
        "# Print the host name and their listing count\n",
        "print(\"Host with the Highest Listing Count:\")\n",
        "print(\"Host name:\", highest_listing_host)\n",
        "print(\"Listing Count:\", host_listing_count.max())"
      ],
      "metadata": {
        "id": "cGhVM3O61hZv",
        "colab": {
          "base_uri": "https://localhost:8080/"
        },
        "outputId": "cc54a858-477e-49c2-e256-ed22e20f2770"
      },
      "execution_count": null,
      "outputs": [
        {
          "output_type": "stream",
          "name": "stdout",
          "text": [
            "Host with the Highest Listing Count:\n",
            "Host name: Sonder (NYC)\n",
            "Listing Count: 327\n"
          ]
        }
      ]
    },
    {
      "cell_type": "code",
      "source": [
        "#checking listing availablity having 365 days availablity,least availablity and unavailablity\n",
        "\n",
        "availability_365_= bnb_df[bnb_df['availability_365'] == 365]\n",
        "#excluding zero from least availablity\n",
        "non_zero_least=bnb_df[bnb_df['availability_365']>0]\n",
        "availability_least=non_zero_least[non_zero_least['availability_365']==non_zero_least['availability_365'].min()]\n",
        "availability_0_=bnb_df[bnb_df['availability_365']==0]\n"
      ],
      "metadata": {
        "id": "8uRWXYdq_AGq"
      },
      "execution_count": null,
      "outputs": []
    },
    {
      "cell_type": "code",
      "source": [
        "print(availability_365_)"
      ],
      "metadata": {
        "id": "ygC0WyhFCOgu"
      },
      "execution_count": null,
      "outputs": []
    },
    {
      "cell_type": "code",
      "source": [
        "print(availability_least)"
      ],
      "metadata": {
        "id": "8X_WeRe6CaHJ"
      },
      "execution_count": null,
      "outputs": []
    },
    {
      "cell_type": "code",
      "source": [
        "print(availability_0_)"
      ],
      "metadata": {
        "id": "AMsGrFXaFOfl"
      },
      "execution_count": null,
      "outputs": []
    },
    {
      "cell_type": "markdown",
      "source": [
        "# New Section\n",
        "### What all manipulations have you done and insights you found?"
      ],
      "metadata": {
        "id": "tVaLgY-okak2"
      }
    },
    {
      "cell_type": "markdown",
      "source": [
        "\n",
        "Answer Here.\n",
        "\n",
        "The manipulation i have done are as follow:\n",
        "\n",
        "-First of all i converted the last review column to date time data type.\n",
        "\n",
        "-Filled the missing value in last review column by 0.\n",
        "\n",
        "-Also filled missing value in calculated host listings count by 0.\n",
        "\n",
        "-Then calculated highest listing count by each neighbourhood group by applying groupby andvalue count function, which gave following insight\n",
        "Manhattan has highest listing 21661 ,Staten Island has lowest 373.\n",
        "\n",
        "-Then calculated highest listing in each local neighbourhood which gave result as Williamsburg has the highest no. of listing which is 3920.\n",
        "\n",
        "-Then i calculated neighbourhood groups having heighest local neighbourhood which gave result as manhattan has the highest local neighbourhood.\n",
        "\n",
        "-Then i have calculated host having highest listing which gave result as Michael 417\n",
        "\n",
        "-Then i have calculated highest and lowest price of neighbourhood groups and its neighbourhood which gave result as highest price-10000 with Brooklyn and greenpoint, lowest price-10 with Bronx and highbridge.\n",
        "\n",
        "-Then i have calculated average price for each room type.\n",
        "entire room/apt-211.794,private room-89.78,shared room-70.12.\n",
        "\n",
        "-Then calculated highest minimum night required by each room type.\n",
        "entire room/apt-1250, private room 999,shared room -999.\n",
        "\n",
        "-Then calculated perticular listing having highest night requirement which gave result as prime w village location-1250 min night.\n",
        "\n",
        "-Then i added minimum night range column in the dataset in order to categorise the different listings.\n",
        "\n",
        "-Then calculated highest no. of reviews a listing have which gave output as room near jFK queen bed.\n",
        "\n",
        "-Then i calculated years having most and list reviews which gave 2019 year as the highest.\n",
        "\n",
        "-After that i have calculated highest no of reviews per month and the corresponding listing details.\n",
        "\n",
        "-Then calculated host with the highest calculated host listing count. Which gave output as Sonder 327.\n",
        "\n",
        "-Then atlast calculated listing with availability 365 days by dividing it in a listing which is available for 365 days,listing which is available for least day and listing which is not available.\n",
        "\n",
        "\n"
      ],
      "metadata": {
        "id": "LbyXE7I1olp8"
      }
    },
    {
      "cell_type": "markdown",
      "source": [
        "## ***4. Data Vizualization, Storytelling & Experimenting with charts : Understand the relationships between variables***"
      ],
      "metadata": {
        "id": "GF8Ens_Soomf"
      }
    },
    {
      "cell_type": "markdown",
      "source": [
        "#### Chart - 1\n",
        "\n",
        "Bar chart showing no.of neighbourhoods in different neighbourhood group"
      ],
      "metadata": {
        "id": "0wOQAZs5pc--"
      }
    },
    {
      "cell_type": "code",
      "source": [
        "# Chart - 1 visualization code\n",
        "# no.of neighbourhoods in different neighbourhood group\n",
        "neighbourhood_count=bnb_df.groupby('neighbourhood_group')['neighbourhood'].count().reset_index()\n",
        "\n",
        "sns.barplot(x='neighbourhood_group',y='neighbourhood',data=neighbourhood_count)\n",
        "plt.xlabel('neighbourhood group')\n",
        "plt.ylabel('no of different neighbourhood')\n",
        "plt.title('Number of Neighborhoods in Different Neighborhood Groups')\n",
        "plt.show()"
      ],
      "metadata": {
        "id": "7v_ESjsspbW7"
      },
      "execution_count": null,
      "outputs": []
    },
    {
      "cell_type": "markdown",
      "source": [
        "##### 1. Why did you pick the specific chart?"
      ],
      "metadata": {
        "id": "K5QZ13OEpz2H"
      }
    },
    {
      "cell_type": "markdown",
      "source": [
        "The bar plot is suitable here to show total no of local neighbourhood inside neighbourhood group."
      ],
      "metadata": {
        "id": "XESiWehPqBRc"
      }
    },
    {
      "cell_type": "markdown",
      "source": [
        "##### 2. What is/are the insight(s) found from the chart?"
      ],
      "metadata": {
        "id": "lQ7QKXXCp7Bj"
      }
    },
    {
      "cell_type": "markdown",
      "source": [
        "Answer Here: From this chart i got to know that the manhattan group has the highest no of local neighbourhood which means Manhattan has highest listing\n",
        "whereas the Staten island group has the lowest no. of local neighbourhood which means it as least listing."
      ],
      "metadata": {
        "id": "C_j1G7yiqdRP"
      }
    },
    {
      "cell_type": "markdown",
      "source": [
        "##### 3. Will the gained insights help creating a positive business impact?\n",
        "Are there any insights that lead to negative growth? Justify with specific reason."
      ],
      "metadata": {
        "id": "448CDAPjqfQr"
      }
    },
    {
      "cell_type": "markdown",
      "source": [
        "Answer Here:  The insights gained from analyzing the chart can potentially help create a positive business impact. For example:\n",
        "\n",
        "              -Identifying Popular Neighborhoods\n",
        "\n",
        "              -Understanding Price Trends\n",
        "\n",
        "              -Improving Customer Experience\n"
      ],
      "metadata": {
        "id": "3cspy4FjqxJW"
      }
    },
    {
      "cell_type": "markdown",
      "source": [
        "#### Chart - 2\n",
        "\n",
        "Stacked chart showing relationship between neighbouhood group and the count of room type."
      ],
      "metadata": {
        "id": "KSlN3yHqYklG"
      }
    },
    {
      "cell_type": "code",
      "source": [
        "# Chart - 2 visualization code\n",
        "\n",
        "# relationship between neighbouhood group and the count of room type.\n",
        "count_of_room_type=bnb_df.groupby(['neighbourhood_group','room_type']).size().unstack()\n",
        "count_of_room_type.plot(kind='bar',stacked=True)\n",
        "plt.xlabel('neighbourhood group')\n",
        "plt.ylabel('count')\n",
        "plt.title('Stacked Bar Chart: Neighborhood Group vs Room Type')\n",
        "plt.legend(title='room type')\n",
        "plt.show()\n",
        "\n",
        "\n"
      ],
      "metadata": {
        "id": "R4YgtaqtYklH"
      },
      "execution_count": null,
      "outputs": []
    },
    {
      "cell_type": "markdown",
      "source": [
        "##### 1. Why did you pick the specific chart?"
      ],
      "metadata": {
        "id": "t6dVpIINYklI"
      }
    },
    {
      "cell_type": "markdown",
      "source": [
        "Answer Here:\n",
        "\n",
        "I picked this stacked bar plot because it is a good way to show relationship between two categorical variables\n",
        "\n"
      ],
      "metadata": {
        "id": "5aaW0BYyYklI"
      }
    },
    {
      "cell_type": "markdown",
      "source": [
        "##### 2. What is/are the insight(s) found from the chart?\n",
        "\n",
        "\n"
      ],
      "metadata": {
        "id": "ijmpgYnKYklI"
      }
    },
    {
      "cell_type": "markdown",
      "source": [
        "Answer Here:\n",
        "\n",
        "We can observe from the graph that:\n",
        "\n",
        "-Brooklyn has the highest no. of private rooms.\n",
        "\n",
        "-Manhattan has the highest no. of Entire home/Apt.\n",
        "\n",
        "-Whereas Staten Island has lowest no. of every type of room\n"
      ],
      "metadata": {
        "id": "PSx9atu2YklI"
      }
    },
    {
      "cell_type": "markdown",
      "source": [
        "##### 3. Will the gained insights help creating a positive business impact?\n",
        "Are there any insights that lead to negative growth? Justify with specific reason."
      ],
      "metadata": {
        "id": "-JiQyfWJYklI"
      }
    },
    {
      "cell_type": "markdown",
      "source": [
        "Answer Here\n",
        "\n",
        "Yes, the insights gained from analyzing an Airbnb dataset can potentially help create a positive business impact. For example:\n",
        "\n",
        "  -optimization in pricing of listing by host.\n",
        "\n",
        "  -helps in understanding demand pattern of different type of room type   in  different neighbourhood."
      ],
      "metadata": {
        "id": "BcBbebzrYklV"
      }
    },
    {
      "cell_type": "markdown",
      "source": [
        "#### Chart - 3\n",
        "\n",
        "scatter plot showing relationship between cordinates and neighbourhood groups."
      ],
      "metadata": {
        "id": "EM7whBJCYoAo"
      }
    },
    {
      "cell_type": "code",
      "source": [
        "# Chart - 3 visualization\n",
        "plt.figure(figsize=(10,6))\n",
        "sns.scatterplot(x='longitude',y='latitude',hue='neighbourhood_group',data=bnb_df)\n",
        "plt.xlabel('Longitude')\n",
        "plt.ylabel('Latitude')\n",
        "plt.title('Scatter Plot: Coordinates vs Neighborhood Group')\n",
        "plt.legend(title='Neighbourhood Group')\n",
        "plt.show()"
      ],
      "metadata": {
        "id": "t6GMdE67YoAp"
      },
      "execution_count": null,
      "outputs": []
    },
    {
      "cell_type": "markdown",
      "source": [
        "##### 1. Why did you pick the specific chart?"
      ],
      "metadata": {
        "id": "fge-S5ZAYoAp"
      }
    },
    {
      "cell_type": "markdown",
      "source": [
        "*Answer* Here.\n",
        "\n",
        "As the scatter plot is good to visualise two continuous variable thats why to show  relationship between two coordinate and neighbourhood group i have choosen this chart."
      ],
      "metadata": {
        "id": "5dBItgRVYoAp"
      }
    },
    {
      "cell_type": "markdown",
      "source": [
        "##### 2. What is/are the insight(s) found from the chart?"
      ],
      "metadata": {
        "id": "85gYPyotYoAp"
      }
    },
    {
      "cell_type": "markdown",
      "source": [
        "Answer Here\n",
        "\n",
        "From the graph we can see the scatter plot of coordinates (latitude and longitude) displays a linear relationship, it suggests that there is a correlation or pattern between the latitude and longitude values."
      ],
      "metadata": {
        "id": "4jstXR6OYoAp"
      }
    },
    {
      "cell_type": "markdown",
      "source": [
        "##### 3. Will the gained insights help creating a positive business impact?\n",
        "\n",
        "\n",
        "Are there any insights that lead to negative growth? Justify with specific reason."
      ],
      "metadata": {
        "id": "RoGjAbkUYoAp"
      }
    },
    {
      "cell_type": "markdown",
      "source": [
        "Answer Here\n",
        "\n",
        "The insights gained from a scatter plot showing a linear relationship between coordinates (latitude and longitude) can potentially help create a positive business impact in certain scenarios. For example\n",
        "\n",
        "-Route planning(transportation routes, such as roads, railways, or shipping lanes)\n",
        "\n",
        "-Location-based Marketing strategies"
      ],
      "metadata": {
        "id": "zfJ8IqMcYoAp"
      }
    },
    {
      "cell_type": "markdown",
      "source": [
        "#### Chart - 4\n",
        "Bar plot to show relationship between different neighbourhood group and avg price of the listing situated there.\n"
      ],
      "metadata": {
        "id": "4Of9eVA-YrdM"
      }
    },
    {
      "cell_type": "code",
      "source": [
        "# Chart - 4 visualization code\n",
        "#relationship between different neighbourhood group and avg price of the listing situated there.\n",
        "avg_price=bnb_df.groupby('neighbourhood_group')['price'].mean().reset_index()\n",
        "plt.figure(figsize=(10,6))\n",
        "sns.barplot(x='neighbourhood_group',y='price',data=avg_price)\n",
        "plt.xlabel('neighbourhood group')\n",
        "plt.ylabel('avg price')\n",
        "plt.title('Bar Plot: Neighborhood Group vs Average Price')\n",
        "plt.show()\n"
      ],
      "metadata": {
        "id": "irlUoxc8YrdO"
      },
      "execution_count": null,
      "outputs": []
    },
    {
      "cell_type": "markdown",
      "source": [
        "##### 1. Why did you pick the specific chart?"
      ],
      "metadata": {
        "id": "iky9q4vBYrdO"
      }
    },
    {
      "cell_type": "markdown",
      "source": [
        "Answer Here:\n",
        "\n",
        "Using a bar plot to visualize the average prices is effective in presenting the data in a straightforward manner. It allows for a quick understanding of the average price ranges for each neighborhood group and helps in identifying any significant disparities or trends."
      ],
      "metadata": {
        "id": "aJRCwT6DYrdO"
      }
    },
    {
      "cell_type": "markdown",
      "source": [
        "##### 2. What is/are the insight(s) found from the chart?"
      ],
      "metadata": {
        "id": "F6T5p64dYrdO"
      }
    },
    {
      "cell_type": "markdown",
      "source": [
        "Answer Here:\n",
        "\n",
        "Insights observed from the charts are:\n",
        "\n",
        "-Manhattan group has the highest avg price.\n",
        "\n",
        "-Whereas Bronx has the lowest avg price for listings."
      ],
      "metadata": {
        "id": "Xx8WAJvtYrdO"
      }
    },
    {
      "cell_type": "markdown",
      "source": [
        "##### 3. Will the gained insights help creating a positive business impact?\n",
        "Are there any insights that lead to negative growth? Justify with specific reason."
      ],
      "metadata": {
        "id": "y-Ehk30pYrdP"
      }
    },
    {
      "cell_type": "markdown",
      "source": [
        "Answer Here:\n",
        "\n",
        "The insights gained from analyzing the relationship between the neighborhood group and average price can potentially help create a positive business impact. Here are a few ways these insights can be valuable:\n",
        "\n",
        "-Helps in strategizing price segment.\n",
        "\n",
        "-Helps in marketting and targetting specific customers segment"
      ],
      "metadata": {
        "id": "jLNxxz7MYrdP"
      }
    },
    {
      "cell_type": "markdown",
      "source": [
        "#### Chart - 5\n",
        "\n",
        "Line chart to show relation between different room type and avg minimum nights."
      ],
      "metadata": {
        "id": "bamQiAODYuh1"
      }
    },
    {
      "cell_type": "code",
      "source": [
        "# Chart - 5 visualization code\n",
        "# relation between different room type and avg minimum nights.\n",
        "avg_min_night = bnb_df.groupby('room_type')['minimum_nights'].mean().reset_index()\n",
        "\n",
        "plt.figure(figsize=(10, 6))\n",
        "sns.lineplot(x='room_type', y='minimum_nights', data=avg_min_night)\n",
        "plt.xlabel('Room Type')\n",
        "plt.ylabel('Average Minimum Night')\n",
        "plt.title('Average Minimum Night by Room Type')\n",
        "\n",
        "\n",
        "plt.show()\n"
      ],
      "metadata": {
        "id": "TIJwrbroYuh3"
      },
      "execution_count": null,
      "outputs": []
    },
    {
      "cell_type": "markdown",
      "source": [
        "##### 1. Why did you pick the specific chart?"
      ],
      "metadata": {
        "id": "C0GD2vtjxQcD"
      }
    },
    {
      "cell_type": "markdown",
      "source": [
        "Answer Here:\n",
        "\n",
        "A line chart allows us to easily identify trends or patterns in the data. By connecting data points with lines, it provides a visual representation of how the values change over a continuous variable or time."
      ],
      "metadata": {
        "id": "_J3HolSbxhpn"
      }
    },
    {
      "cell_type": "markdown",
      "source": [
        "##### 2. What is/are the insight(s) found from the chart?"
      ],
      "metadata": {
        "id": "GwzvFGzlYuh3"
      }
    },
    {
      "cell_type": "markdown",
      "source": [
        "Answer Here:\n",
        "\n",
        "Insights observed from the graph:\n",
        "\n",
        "There is down trend of avg minimum in the private room whereas as up trend for Entire home/Apt and Share room."
      ],
      "metadata": {
        "id": "uyqkiB8YYuh3"
      }
    },
    {
      "cell_type": "markdown",
      "source": [
        "##### 3. Will the gained insights help creating a positive business impact?\n",
        "Are there any insights that lead to negative growth? Justify with specific reason."
      ],
      "metadata": {
        "id": "qYpmQ266Yuh3"
      }
    },
    {
      "cell_type": "markdown",
      "source": [
        "Answer Here\n",
        "\n",
        "The insights gained from analyzing the average minimum night and room type can potentially have a positive business impact in the following ways:\n",
        "\n",
        " Understanding the average minimum night for each room type allows businesses to set appropriate pricing strategies. Room types with longer average minimum nights may command higher rates, while shorter minimum nights may attract more flexible or last-minute bookings. This information enables businesses to optimize pricing and revenue management strategies to maximize profitability."
      ],
      "metadata": {
        "id": "_WtzZ_hCYuh4"
      }
    },
    {
      "cell_type": "markdown",
      "source": [
        "#### Chart - 6\n",
        "\n",
        "Line plot showing relationship between different room type and their avg pricing.\n"
      ],
      "metadata": {
        "id": "OH-pJp9IphqM"
      }
    },
    {
      "cell_type": "code",
      "source": [
        "# Chart - 6 visualization code\n",
        "# relationship between different room type and their avg pricing.\n",
        "avg_price=bnb_df.groupby('room_type')['price'].mean().reset_index()\n",
        "plt.figure(figsize=(10, 6))\n",
        "sns.lineplot(x='room_type', y='price', data=avg_price)\n",
        "plt.xlabel('Room Type')\n",
        "plt.ylabel('Avg Price')\n",
        "plt.title('Price by Room Type')\n",
        "plt.show()\n"
      ],
      "metadata": {
        "id": "kuRf4wtuphqN"
      },
      "execution_count": null,
      "outputs": []
    },
    {
      "cell_type": "markdown",
      "source": [
        "##### 1. Why did you pick the specific chart?"
      ],
      "metadata": {
        "id": "bbFf2-_FphqN"
      }
    },
    {
      "cell_type": "markdown",
      "source": [
        "Answer Here.\n",
        "\n",
        "The line chart is good to show a trend in the graph thats why i used the line chart to show relation between room type and avg price of each."
      ],
      "metadata": {
        "id": "loh7H2nzphqN"
      }
    },
    {
      "cell_type": "markdown",
      "source": [
        "##### 2. What is/are the insight(s) found from the chart?"
      ],
      "metadata": {
        "id": "_ouA3fa0phqN"
      }
    },
    {
      "cell_type": "markdown",
      "source": [
        "Answer Here:\n",
        "\n",
        "from the chart we can observe:\n",
        "\n",
        "The trend is going downward that means the entire home apt has higher price which gradually decreases in the private room and shared room\n",
        "\n"
      ],
      "metadata": {
        "id": "VECbqPI7phqN"
      }
    },
    {
      "cell_type": "markdown",
      "source": [
        "##### 3. Will the gained insights help creating a positive business impact?\n",
        "Are there any insights that lead to negative growth? Justify with specific reason."
      ],
      "metadata": {
        "id": "Seke61FWphqN"
      }
    },
    {
      "cell_type": "markdown",
      "source": [
        "Answer Here:\n",
        "\n",
        "The insights gained from visualizing the relationship between room type and price can potentially create a positive business impact. It can help in following ways:\n",
        "\n",
        "-pricing optimization.\n",
        "\n",
        "-Competitive Positioning.\n",
        "\n",
        "-Customer Segmentation.\n",
        "\n"
      ],
      "metadata": {
        "id": "DW4_bGpfphqN"
      }
    },
    {
      "cell_type": "markdown",
      "source": [
        "#### Chart - 7\n",
        "\n",
        "Pie chart to show percentage relation between room type and their total reviews"
      ],
      "metadata": {
        "id": "PIIx-8_IphqN"
      }
    },
    {
      "cell_type": "code",
      "source": [
        "# Chart - 7 visualization code\n",
        "#percentage relation between room type and their total reviews\n",
        "\n",
        "total_review=bnb_df.groupby('room_type')['number_of_reviews'].sum()\n",
        "\n",
        "plt.pie(total_review,labels=total_review.index,autopct='%1.1f%%',startangle=90)\n",
        "plt.axis('equal')\n",
        "plt.title('Distribution of Reviews by Room Type')\n",
        "plt.show()\n"
      ],
      "metadata": {
        "id": "AtZFaGDFI3jU"
      },
      "execution_count": null,
      "outputs": []
    },
    {
      "cell_type": "markdown",
      "source": [
        "##### 1. Why did you pick the specific chart?"
      ],
      "metadata": {
        "id": "t27r6nlMphqO"
      }
    },
    {
      "cell_type": "markdown",
      "source": [
        "Answer Here.\n",
        "\n",
        "A pie chart can be used to show the distribution of reviews among different room types. Each room type is represented as a slice of the pie, with the size of the slice proportional to the number of reviews. This type of graph provides a visual representation of the relative popularity of each room type."
      ],
      "metadata": {
        "id": "iv6ro40sphqO"
      }
    },
    {
      "cell_type": "markdown",
      "source": [
        "##### 2. What is/are the insight(s) found from the chart?"
      ],
      "metadata": {
        "id": "r2jJGEOYphqO"
      }
    },
    {
      "cell_type": "markdown",
      "source": [
        "Answer Here:\n",
        "\n",
        "From the chart we can observe that the percentage remove of entire home/apt is 51% which is higher from every other room type which means entire home/apt is most populer and the room type shared room has the least percentage of reviews."
      ],
      "metadata": {
        "id": "Po6ZPi4hphqO"
      }
    },
    {
      "cell_type": "markdown",
      "source": [
        "##### 3. Will the gained insights help creating a positive business impact?\n",
        "Are there any insights that lead to negative growth? Justify with specific reason."
      ],
      "metadata": {
        "id": "b0JNsNcRphqO"
      }
    },
    {
      "cell_type": "markdown",
      "source": [
        "Answer Here:\n",
        "\n",
        "The insights gained from visualizing the distribution of reviews among different room types using a pie chart can potentially have a positive business impact. For example it can help in-\n",
        "\n",
        "-Identifying Popular Room Types.\n",
        "\n",
        "-For enhancing service and Product.\n",
        "\n",
        "-Pricing and Revenue Management\n",
        "\n"
      ],
      "metadata": {
        "id": "xvSq8iUTphqO"
      }
    },
    {
      "cell_type": "markdown",
      "source": [
        "#### Chart - 8\n",
        "\n",
        "Horizontal bar chart to show relation between number of reviews and neighbourhood group."
      ],
      "metadata": {
        "id": "BZR9WyysphqO"
      }
    },
    {
      "cell_type": "code",
      "source": [
        "# Chart - 8 visualization code\n",
        "\n",
        "total_review_count=bnb_df.groupby('neighbourhood_group')['number_of_reviews'].sum().reset_index()\n",
        "total_review_sorted=total_review_count.sort_values('number_of_reviews',ascending=False)\n",
        "\n",
        "plt.figure(figsize=(10,6))\n",
        "plt.barh(total_review_sorted['neighbourhood_group'], total_review_sorted['number_of_reviews'])\n",
        "plt.xlabel('Number of Reviews')\n",
        "plt.ylabel('Neighbourhood Group')\n",
        "plt.title('Number of Reviews by Neighbourhood Group')\n",
        "plt.show()\n",
        "\n"
      ],
      "metadata": {
        "id": "TdPTWpAVphqO"
      },
      "execution_count": null,
      "outputs": []
    },
    {
      "cell_type": "markdown",
      "source": [
        "##### 1. Why did you pick the specific chart?\n",
        "\n"
      ],
      "metadata": {
        "id": "jj7wYXLtphqO"
      }
    },
    {
      "cell_type": "markdown",
      "source": [
        "Answer Here:\n",
        "\n",
        "A bar plot allows you to compare the number of reviews across different neighborhood groups, which are categorical variables. Each neighborhood group is represented by a separate bar, making it easy to compare the heights of the bars to understand the differences in the number of reviews."
      ],
      "metadata": {
        "id": "Ob8u6rCTphqO"
      }
    },
    {
      "cell_type": "markdown",
      "source": [
        "##### 2. What is/are the insight(s) found from the chart?"
      ],
      "metadata": {
        "id": "eZrbJ2SmphqO"
      }
    },
    {
      "cell_type": "markdown",
      "source": [
        "Answer Here\n",
        "\n",
        "From the graph i can conclude that:\n",
        "\n",
        "-Brooklyn neighbourhood has the highest no. of reviews.\n",
        "\n",
        "-whereas Staten island has lowest review or we can say least popular."
      ],
      "metadata": {
        "id": "mZtgC_hjphqO"
      }
    },
    {
      "cell_type": "markdown",
      "source": [
        "##### 3. Will the gained insights help creating a positive business impact?\n",
        "Are there any insights that lead to negative growth? Justify with specific reason."
      ],
      "metadata": {
        "id": "rFu4xreNphqO"
      }
    },
    {
      "cell_type": "markdown",
      "source": [
        "Answer Here\n",
        "\n",
        "The insights gain from the graph can help in following ways:\n",
        "\n",
        "-To identify popular neighbourhood.\n",
        "\n",
        "-To improve guest satisfaction through reviews.\n",
        "\n",
        "-Helps in competitive business."
      ],
      "metadata": {
        "id": "ey_0qi68phqO"
      }
    },
    {
      "cell_type": "markdown",
      "source": [
        "#### Chart - 9\n",
        "\n",
        "Bar chart showing top 10 popular listing on the basis of reviews."
      ],
      "metadata": {
        "id": "YJ55k-q6phqO"
      }
    },
    {
      "cell_type": "code",
      "source": [
        "# Chart - 9 visualization code\n",
        "#top 10 popular listing on the basis of reviews.\n",
        "\n",
        "top_10_listing=bnb_df.nlargest(10,'number_of_reviews')\n",
        "\n",
        "plt.figure(figsize=(8, 4))\n",
        "sns.barplot(x='number_of_reviews',y='name',data=top_10_listing,color='blue')\n",
        "plt.xlabel('number of reviews')\n",
        "plt.ylabel('Listing name')\n",
        "plt.title('Top 10 Listings')\n",
        "plt.show()"
      ],
      "metadata": {
        "id": "B2aS4O1ophqO"
      },
      "execution_count": null,
      "outputs": []
    },
    {
      "cell_type": "markdown",
      "source": [
        "##### 1. Why did you pick the specific chart?"
      ],
      "metadata": {
        "id": "-PgFQinwwZP9"
      }
    },
    {
      "cell_type": "markdown",
      "source": [
        "Answer Here:\n",
        "\n",
        "A bar plot is well suited for compairing values across different categories.In this case each bar represent listing name and the height of bar represent no. of reviews. By using bar plot we can compare the popularity of different listings."
      ],
      "metadata": {
        "id": "lvBwOBVAwhyI"
      }
    },
    {
      "cell_type": "markdown",
      "source": [
        "##### 2. What is/are the insight(s) found from the chart?"
      ],
      "metadata": {
        "id": "r3bOnG78wvqX"
      }
    },
    {
      "cell_type": "markdown",
      "source": [
        "Answer Here:\n",
        "\n",
        "The insights observed from the chart is top 10 highest reviewed listing located in different neighbourhood.\n",
        "\n",
        "Among all other listing room near JFK Queen bed has the highest review that means that listing is most popular."
      ],
      "metadata": {
        "id": "mhgmDXxLwxez"
      }
    },
    {
      "cell_type": "markdown",
      "source": [
        "##### 3. Will the gained insights help creating a positive business impact?\n",
        "Are there any insights that lead to negative growth? Justify with specific reason."
      ],
      "metadata": {
        "id": "lssrdh5qphqQ"
      }
    },
    {
      "cell_type": "markdown",
      "source": [
        "Answer Here:\n",
        "\n",
        "Yes the insights gained from the chart helps in creating a positive business impact by identifying the top 10 listings with the highest number of reviews, businesses can highlight these popular listings to potential customers. Promoting these listings can increase their visibility and attract more bookings, leading to higher occupancy rates and increased revenue."
      ],
      "metadata": {
        "id": "tBpY5ekJphqQ"
      }
    },
    {
      "cell_type": "markdown",
      "source": [
        "#### Chart - 10\n",
        "\n",
        "Line chart to show trend in the year of last review date"
      ],
      "metadata": {
        "id": "U2RJ9gkRphqQ"
      }
    },
    {
      "cell_type": "code",
      "source": [
        "# Chart - 10 visualization code\n",
        "#trend in the year of last review date\n",
        "bnb_df['year']=bnb_df['last_review'].dt.year\n",
        "counting_reviews=bnb_df['year'].value_counts().sort_index()\n",
        "\n",
        "plt.figure(figsize=(10,6))\n",
        "plt.plot(counting_reviews.index,counting_reviews.values,marker='o')\n",
        "plt.xlabel('Year')\n",
        "plt.ylabel('Number of Reviews')\n",
        "plt.title('Trend in Number of Reviews by Year')\n",
        "plt.xticks(counting_reviews.index)\n",
        "plt.show()"
      ],
      "metadata": {
        "id": "GM7a4YP4phqQ"
      },
      "execution_count": null,
      "outputs": []
    },
    {
      "cell_type": "markdown",
      "source": [
        "##### 1. Why did you pick the specific chart?"
      ],
      "metadata": {
        "id": "1M8mcRywphqQ"
      }
    },
    {
      "cell_type": "markdown",
      "source": [
        "Answer Here.\n",
        "\n",
        "The line chart represent data points with connected line indicating a sense of continuity between the data point.This is appropriate for visualising the progression of reviews over time as it helps in understanding the overall trend."
      ],
      "metadata": {
        "id": "8agQvks0phqQ"
      }
    },
    {
      "cell_type": "markdown",
      "source": [
        "##### 2. What is/are the insight(s) found from the chart?"
      ],
      "metadata": {
        "id": "tgIPom80phqQ"
      }
    },
    {
      "cell_type": "markdown",
      "source": [
        "Answer Here\n",
        "\n",
        "From the chart we can observe\n",
        "\n",
        "the line chart is clearly showing up trend that means the no of reviews gradually increased from year 2011 to 2019 which shows that the listing becomes more popular over the year."
      ],
      "metadata": {
        "id": "Qp13pnNzphqQ"
      }
    },
    {
      "cell_type": "markdown",
      "source": [
        "##### 3. Will the gained insights help creating a positive business impact?\n",
        "Are there any insights that lead to negative growth? Justify with specific reason."
      ],
      "metadata": {
        "id": "JMzcOPDDphqR"
      }
    },
    {
      "cell_type": "markdown",
      "source": [
        "Answer Here\n",
        "\n",
        "Yes the insight gained from the chart will help in the following ways:\n",
        "\n",
        "Identifing Seasonal Patterns: By examining the trend in reviews over different years, businesses can identify any seasonal patterns or fluctuations in customer activity. Understanding these patterns can help in planning and allocating resources accordingly. For example, if there is a peak in reviews during certain months, businesses can adjust their marketing efforts or pricing strategies to capitalize on the increased demand."
      ],
      "metadata": {
        "id": "R4Ka1PC2phqR"
      }
    },
    {
      "cell_type": "markdown",
      "source": [
        "#### Chart - 11\n",
        "\n",
        "Stacked chart showing relation between neighbourhood groups,room type and avg reviews per month."
      ],
      "metadata": {
        "id": "x-EpHcCOp1ci"
      }
    },
    {
      "cell_type": "code",
      "source": [
        "# Chart - 11 visualization code\n",
        "#relation between neighbourhood groups,room type and avg reviews per month.\n",
        "avg_review_per_month=bnb_df.groupby(['neighbourhood_group','room_type'])['reviews_per_month'].mean().unstack()\n",
        "avg_review_per_month.plot(kind='bar',stacked=True)\n",
        "plt.xlabel('neighbourhood group')\n",
        "plt.ylabel('Avg review per month')\n",
        "plt.title('Stacked Bar Chart: Neighborhood Group vs Room Type vs avg review per month ')\n",
        "plt.legend(title='room type')\n",
        "plt.show()\n"
      ],
      "metadata": {
        "id": "mAQTIvtqp1cj"
      },
      "execution_count": null,
      "outputs": []
    },
    {
      "cell_type": "markdown",
      "source": [
        "##### 1. Why did you pick the specific chart?"
      ],
      "metadata": {
        "id": "X_VqEhTip1ck"
      }
    },
    {
      "cell_type": "markdown",
      "source": [
        "Answer Here.\n",
        "\n",
        "This chart allows for the visual comparison of theaverage review activity among different room types and neighbourhood groups.It provide insights into which room types and neighbourhood groups have higher or lower avg reviews per month helping identify area of higher customer engagement."
      ],
      "metadata": {
        "id": "-vsMzt_np1ck"
      }
    },
    {
      "cell_type": "markdown",
      "source": [
        "##### 2. What is/are the insight(s) found from the chart?"
      ],
      "metadata": {
        "id": "8zGJKyg5p1ck"
      }
    },
    {
      "cell_type": "markdown",
      "source": [
        "Answer Here\n",
        "\n",
        "This chart provide insights like:\n",
        "\n",
        "Queens has the highest avg review per month.\n",
        "\n",
        "Brooklyn has the lowest avg review per month.\n",
        "\n",
        "Entire home/apt has the highest avg review per month and shared room has lowest."
      ],
      "metadata": {
        "id": "ZYdMsrqVp1ck"
      }
    },
    {
      "cell_type": "markdown",
      "source": [
        "##### 3. Will the gained insights help creating a positive business impact?\n",
        "Are there any insights that lead to negative growth? Justify with specific reason."
      ],
      "metadata": {
        "id": "PVzmfK_Ep1ck"
      }
    },
    {
      "cell_type": "markdown",
      "source": [
        "Answer Here\n",
        "\n",
        "Yes, the gained insights from the stacked bar chart showcasing the average reviews per month for different room types within each neighborhood group can help create a positive business impact. Such as:\n",
        "\n",
        "Identifying in popular room type.\n",
        "\n",
        "understanding in customer preferences.\n",
        "\n",
        "improving customer satisfaction."
      ],
      "metadata": {
        "id": "druuKYZpp1ck"
      }
    },
    {
      "cell_type": "markdown",
      "source": [
        "#### Chart - 12\n",
        "\n",
        "Pie chart to show distribution of different neighbourhood group and host lsting count."
      ],
      "metadata": {
        "id": "n3dbpmDWp1ck"
      }
    },
    {
      "cell_type": "code",
      "source": [
        "# Chart - 12 visualization code\n",
        "#distribution of different neighbourhood group and host lsting count.\n",
        "total_calculated_host_list=bnb_df.groupby('neighbourhood_group')['calculated_host_listings_count'].sum()\n",
        "plt.figure(figsize=(10,6))\n",
        "plt.pie(total_calculated_host_list,labels=total_calculated_host_list.index,autopct='%1.1f%%')\n",
        "plt.axis('equal')\n",
        "plt.title('Distribution of total host list count by each neighbourhood group')\n",
        "plt.show()\n"
      ],
      "metadata": {
        "id": "bwevp1tKp1ck"
      },
      "execution_count": null,
      "outputs": []
    },
    {
      "cell_type": "markdown",
      "source": [
        "##### 1. Why did you pick the specific chart?"
      ],
      "metadata": {
        "id": "ylSl6qgtp1ck"
      }
    },
    {
      "cell_type": "markdown",
      "source": [
        "Answer Here.\n",
        "\n",
        "Pie chart here perfectly represent the different percentage of listing count over each neighbourhood group. This chart helps to show percentage distribution which is easier to interpret."
      ],
      "metadata": {
        "id": "m2xqNkiQp1ck"
      }
    },
    {
      "cell_type": "markdown",
      "source": [
        "##### 2. What is/are the insight(s) found from the chart?"
      ],
      "metadata": {
        "id": "ZWILFDl5p1ck"
      }
    },
    {
      "cell_type": "markdown",
      "source": [
        "Answer Here\n",
        "\n",
        "From the graph we can observe:\n",
        "\n",
        "Manhattan has the highest percentage of total host list count.\n",
        "\n",
        "Whereas the Staten island has lowest percentage."
      ],
      "metadata": {
        "id": "x-lUsV2mp1ck"
      }
    },
    {
      "cell_type": "markdown",
      "source": [
        "##### 3. Will the gained insights help creating a positive business impact?\n",
        "Are there any insights that lead to negative growth? Justify with specific reason."
      ],
      "metadata": {
        "id": "M7G43BXep1ck"
      }
    },
    {
      "cell_type": "markdown",
      "source": [
        "Answer Here\n",
        "\n",
        "Yes the gained insights help creating a positive business impact.\n",
        "The pie chart allows businesses to identify the neighborhood groups with the highest calculated host listing counts. This information can help businesses focus their efforts on neighborhoods that have a higher concentration of hosts and listings, potentially indicating higher demand or popularity in those areas. By targeting these high-performing neighborhood groups, businesses can allocate resources more effectively and increase their chances of attracting customers."
      ],
      "metadata": {
        "id": "5wwDJXsLp1cl"
      }
    },
    {
      "cell_type": "markdown",
      "source": [
        "#### Chart - 13\n",
        "\n",
        "Box plot for showing relation between availability 365 and room type."
      ],
      "metadata": {
        "id": "Ag9LCva-p1cl"
      }
    },
    {
      "cell_type": "code",
      "source": [
        "# Chart - 13 visualization code\n",
        "#relation between availability 365 and room type.\n",
        "sns.boxplot(x='room_type', y='availability_365', data=bnb_df, palette='Set1')\n",
        "plt.xlabel('Room Type')\n",
        "plt.ylabel('Availability for 365 Days')\n",
        "plt.title('Availability for 365 Days by Room Type')\n",
        "plt.show()\n"
      ],
      "metadata": {
        "id": "EUfxeq9-p1cl",
        "colab": {
          "base_uri": "https://localhost:8080/",
          "height": 472
        },
        "outputId": "9668d2b3-2e83-4b1c-fff9-b9a9e59e3e37"
      },
      "execution_count": null,
      "outputs": [
        {
          "output_type": "display_data",
          "data": {
            "text/plain": [
              "<Figure size 640x480 with 1 Axes>"
            ],
            "image/png": "[encoded data removed]"
          },
          "metadata": {}
        }
      ]
    },
    {
      "cell_type": "markdown",
      "source": [
        "##### 1. Why did you pick the specific chart?"
      ],
      "metadata": {
        "id": "E6MkPsBcp1cl"
      }
    },
    {
      "cell_type": "markdown",
      "source": [
        "Answer Here.\n",
        "\n",
        "We can use a box plot to visualize the relationship between room type and availability for 365 days. A box plot provides a concise summary of the distribution of data, including the median, quartiles, and potential outliers."
      ],
      "metadata": {
        "id": "V22bRsFWp1cl"
      }
    },
    {
      "cell_type": "markdown",
      "source": [
        "##### 2. What is/are the insight(s) found from the chart?"
      ],
      "metadata": {
        "id": "2cELzS2fp1cl"
      }
    },
    {
      "cell_type": "markdown",
      "source": [
        "Answer Here\n",
        "\n",
        "we can observe from the graph that:\n",
        "\n",
        "availability of shared room is higher as compared to private room and Entire home/apt room type."
      ],
      "metadata": {
        "id": "ozQPc2_Ip1cl"
      }
    },
    {
      "cell_type": "markdown",
      "source": [
        "##### 3. Will the gained insights help creating a positive business impact?\n",
        "Are there any insights that lead to negative growth? Justify with specific reason."
      ],
      "metadata": {
        "id": "3MPXvC8up1cl"
      }
    },
    {
      "cell_type": "markdown",
      "source": [
        "Answer Here\n",
        "\n",
        "The gained insights from visualizing the relationship between room type and availability for 365 days can potentially help create a positive business impact in following ways:\n",
        "\n",
        "helps in optimizing pricing and revenue.\n",
        "\n",
        "enhancing Resource allocation."
      ],
      "metadata": {
        "id": "GL8l1tdLp1cl"
      }
    },
    {
      "cell_type": "markdown",
      "source": [
        "#### Chart - 14 - Correlation Heatmap"
      ],
      "metadata": {
        "id": "NC_X3p0fY2L0"
      }
    },
    {
      "cell_type": "code",
      "source": [
        "#Relation between Average Price in Neighbourhood Group vs. Room Type\n",
        "\n",
        "\n",
        "#Creating a pivot table to calculate the average price for each combination of neighborhood group and room\n",
        "pivot_table= bnb_df.pivot_table(index='neighbourhood_group',columns='room_type', values='price',aggfunc='mean')\n",
        "\n",
        "plt.figure(figsize=(10,6))\n",
        "sns.heatmap(pivot_table,fmt='.0f',annot=True,cmap='coolwarm')\n",
        "plt.xlabel('Room type')\n",
        "plt.ylabel('Neighbourhood Group')\n",
        "plt.title('Heatmap: Average Price in Neighbourhood Group vs. Room Type')\n",
        "plt.show()\n"
      ],
      "metadata": {
        "colab": {
          "base_uri": "https://localhost:8080/",
          "height": 564
        },
        "id": "nrproq1AiLYa",
        "outputId": "fbca9b49-5daa-4008-ba08-5b3494dbb54f"
      },
      "execution_count": null,
      "outputs": [
        {
          "output_type": "display_data",
          "data": {
            "text/plain": [
              "<Figure size 1000x600 with 2 Axes>"
            ],
            "image/png": "[encoded data removed]"
          },
          "metadata": {}
        }
      ]
    },
    {
      "cell_type": "markdown",
      "source": [
        "##### 1. Why did you pick the specific chart?"
      ],
      "metadata": {
        "id": "UV0SzAkaZNRQ"
      }
    },
    {
      "cell_type": "markdown",
      "source": [
        "Answer Here.\n",
        "\n",
        "The heat map allows us to compare the avg prices across different neighbourhood groups and room types.the color intensity provides a visual representation of price level making it easy to identify areas or type of accomodation with higher or lower avg prices."
      ],
      "metadata": {
        "id": "DVPuT8LYZNRQ"
      }
    },
    {
      "cell_type": "markdown",
      "source": [
        "##### 2. What is/are the insight(s) found from the chart?"
      ],
      "metadata": {
        "id": "YPEH6qLeZNRQ"
      }
    },
    {
      "cell_type": "markdown",
      "source": [
        "Answer Here\n",
        "\n",
        "from the chart we can observe following:\n",
        "\n",
        "price variation by neighbourhood group.\n",
        "\n",
        "price difference by defferent room type.\n",
        "\n",
        "we can see the higher correlation between manhattan and entire room/apt and brooklyn and shared room.\n",
        "\n"
      ],
      "metadata": {
        "id": "bfSqtnDqZNRR"
      }
    },
    {
      "cell_type": "markdown",
      "source": [
        "#### Chart - 15 - Pair Plot"
      ],
      "metadata": {
        "id": "q29F0dvdveiT"
      }
    },
    {
      "cell_type": "code",
      "source": [
        "# Create the pairplot\n",
        "sns.pairplot(bnb_df, vars=['price', 'number_of_reviews', 'reviews_per_month'], hue='neighbourhood_group')\n",
        "plt.show()\n"
      ],
      "metadata": {
        "colab": {
          "base_uri": "https://localhost:8080/",
          "height": 758
        },
        "id": "svK8UY3bok0L",
        "outputId": "68eef8cd-d0b9-4b9a-ddd2-ecf871789410"
      },
      "execution_count": null,
      "outputs": [
        {
          "output_type": "display_data",
          "data": {
            "text/plain": [
              "<Figure size 913.611x750 with 12 Axes>"
            ],
            "image/png": "[encoded data removed]"
          },
          "metadata": {}
        }
      ]
    },
    {
      "cell_type": "markdown",
      "source": [
        "##### 1. Why did you pick the specific chart?"
      ],
      "metadata": {
        "id": "EXh0U9oCveiU"
      }
    },
    {
      "cell_type": "markdown",
      "source": [
        "Answer Here.\n",
        "\n",
        "a pairplot with variable price, reviews per month, number of reviews can be a good visualization to explore relationship between these variables. The pairplot allows us to examine pairwise correlation and distribution of this variable while also taking account neighbourhood group as hue parameter."
      ],
      "metadata": {
        "id": "eMmPjTByveiU"
      }
    },
    {
      "cell_type": "markdown",
      "source": [],
      "metadata": {
        "id": "fvjL55ZsAIFl"
      }
    },
    {
      "cell_type": "markdown",
      "source": [
        "##### 2. What is/are the insight(s) found from the chart?"
      ],
      "metadata": {
        "id": "22aHeOlLveiV"
      }
    },
    {
      "cell_type": "markdown",
      "source": [
        "Answer Here\n",
        "\n",
        "From the chart we can observe:\n",
        "\n",
        "The relation between the variables price,reviews per month and total number of reviews and considering neighbourhood group variable as hue parameter."
      ],
      "metadata": {
        "id": "uPQ8RGwHveiV"
      }
    },
    {
      "cell_type": "markdown",
      "source": [
        "## **5. Solution to Business Objective**"
      ],
      "metadata": {
        "id": "JcMwzZxoAimU"
      }
    },
    {
      "cell_type": "markdown",
      "source": [
        "#### What do you suggest the client to achieve Business Objective ?\n",
        "Explain Briefly."
      ],
      "metadata": {
        "id": "8G2x9gOozGDZ"
      }
    },
    {
      "cell_type": "markdown",
      "source": [
        "Answer Here.\n",
        "\n",
        "From the above analysis we can suggest following things such as:\n",
        "\n",
        "Pricing Strategy- Analysis in the relationship between price and different factor room type neighbourhood group and availability,this can help in setting competitive prices for listings.\n",
        "\n",
        "Optimization of listing:- Identifying top features asssociated with customer\n",
        "satisfaction such as room type and location,the listing can be optimized to attract more customer.\n",
        "\n",
        "Managing reviews- Paying attention to the no of reviews and ratings solving negative reviews and encouraging positive review.This can help in building positive reputation and overall improving guest experience."
      ],
      "metadata": {
        "id": "pASKb0qOza21"
      }
    },
    {
      "cell_type": "markdown",
      "source": [
        "# **Conclusion**"
      ],
      "metadata": {
        "id": "gCX9965dhzqZ"
      }
    },
    {
      "cell_type": "markdown",
      "source": [
        "Write the conclusion here.\n",
        "\n",
        " In conclusion, the analysis of this dataset has provided valuable insights that can help drive positive business impact.\n",
        " By analysing different aspect of the data including price,reviews, neighbourhood group and room type etc we have gained insights which are valueable for achieving business objectives.\n",
        "\n",
        " For example\n",
        "\n",
        " In pricing section there is a relationship between neighbourhood groups ,neighbourhood and room types which can help in setting competitive price.\n",
        "\n",
        " we can identify the top features of listing from the location and room type which will help in fulfilling customer demands.\n",
        "\n",
        " Collaborating with the host with most no. of listings can provide a consistent and quality experience for guests.\n",
        "\n",
        " Actively engaging in the reviews and rating section of the listing will surely helps in attracting more customers.   "
      ],
      "metadata": {
        "id": "Fjb1IsQkh3yE"
      }
    },
    {
      "cell_type": "markdown",
      "source": [
        "### ***Hurrah! You have successfully completed your EDA Capstone Project !!!***"
      ],
      "metadata": {
        "id": "gIfDvo9L0UH2"
      }
    }
  ]
}